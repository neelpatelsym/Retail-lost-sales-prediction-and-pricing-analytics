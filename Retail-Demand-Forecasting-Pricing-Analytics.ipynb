{
 "cells": [
  {
   "cell_type": "markdown",
   "id": "f7789593",
   "metadata": {},
   "source": [
    "# Subject : MSCI - 719_ Assignment - 7"
   ]
  },
  {
   "cell_type": "code",
   "execution_count": 1,
   "id": "1122b62b",
   "metadata": {},
   "outputs": [
    {
     "name": "stdout",
     "output_type": "stream",
     "text": [
      "\n",
      "  There is a binary version available but the source version is later:\n",
      "       binary source needs_compilation\n",
      "readxl  1.3.1  1.4.2              TRUE\n",
      "\n",
      "  Binaries will be installed\n",
      "package 'readxl' successfully unpacked and MD5 sums checked\n"
     ]
    },
    {
     "name": "stderr",
     "output_type": "stream",
     "text": [
      "Warning message:\n",
      "\"cannot remove prior installation of package 'readxl'\"Warning message in file.copy(savedcopy, lib, recursive = TRUE):\n",
      "\"problem copying C:\\Users\\Neel\\anaconda3\\envs\\R\\Lib\\R\\library\\00LOCK\\readxl\\libs\\x64\\readxl.dll to C:\\Users\\Neel\\anaconda3\\envs\\R\\Lib\\R\\library\\readxl\\libs\\x64\\readxl.dll: Permission denied\"Warning message:\n",
      "\"restored 'readxl'\""
     ]
    },
    {
     "name": "stdout",
     "output_type": "stream",
     "text": [
      "\n",
      "The downloaded binary packages are in\n",
      "\tC:\\Users\\Neel\\AppData\\Local\\Temp\\RtmpcbMszQ\\downloaded_packages\n",
      "package 'reshape2' successfully unpacked and MD5 sums checked\n"
     ]
    },
    {
     "name": "stderr",
     "output_type": "stream",
     "text": [
      "Warning message:\n",
      "\"cannot remove prior installation of package 'reshape2'\"Warning message in file.copy(savedcopy, lib, recursive = TRUE):\n",
      "\"problem copying C:\\Users\\Neel\\anaconda3\\envs\\R\\Lib\\R\\library\\00LOCK\\reshape2\\libs\\x64\\reshape2.dll to C:\\Users\\Neel\\anaconda3\\envs\\R\\Lib\\R\\library\\reshape2\\libs\\x64\\reshape2.dll: Permission denied\"Warning message:\n",
      "\"restored 'reshape2'\""
     ]
    },
    {
     "name": "stdout",
     "output_type": "stream",
     "text": [
      "\n",
      "The downloaded binary packages are in\n",
      "\tC:\\Users\\Neel\\AppData\\Local\\Temp\\RtmpcbMszQ\\downloaded_packages\n",
      "\n",
      "  There is a binary version available but the source version is later:\n",
      "        binary source needs_compilation\n",
      "lpSolve 5.6.15 5.6.18              TRUE\n",
      "\n",
      "  Binaries will be installed\n",
      "package 'lpSolve' successfully unpacked and MD5 sums checked\n"
     ]
    },
    {
     "name": "stderr",
     "output_type": "stream",
     "text": [
      "Warning message:\n",
      "\"cannot remove prior installation of package 'lpSolve'\"Warning message in file.copy(savedcopy, lib, recursive = TRUE):\n",
      "\"problem copying C:\\Users\\Neel\\anaconda3\\envs\\R\\Lib\\R\\library\\00LOCK\\lpSolve\\libs\\x64\\lpSolve.dll to C:\\Users\\Neel\\anaconda3\\envs\\R\\Lib\\R\\library\\lpSolve\\libs\\x64\\lpSolve.dll: Permission denied\"Warning message:\n",
      "\"restored 'lpSolve'\""
     ]
    },
    {
     "name": "stdout",
     "output_type": "stream",
     "text": [
      "\n",
      "The downloaded binary packages are in\n",
      "\tC:\\Users\\Neel\\AppData\\Local\\Temp\\RtmpcbMszQ\\downloaded_packages\n",
      "\n",
      "  There is a binary version available but the source version is later:\n",
      "      binary source needs_compilation\n",
      "rpart 4.1-15 4.1.19              TRUE\n",
      "\n",
      "  Binaries will be installed\n",
      "package 'rpart' successfully unpacked and MD5 sums checked\n"
     ]
    },
    {
     "name": "stderr",
     "output_type": "stream",
     "text": [
      "Warning message:\n",
      "\"cannot remove prior installation of package 'rpart'\"Warning message in file.copy(savedcopy, lib, recursive = TRUE):\n",
      "\"problem copying C:\\Users\\Neel\\anaconda3\\envs\\R\\Lib\\R\\library\\00LOCK\\rpart\\libs\\x64\\rpart.dll to C:\\Users\\Neel\\anaconda3\\envs\\R\\Lib\\R\\library\\rpart\\libs\\x64\\rpart.dll: Permission denied\"Warning message:\n",
      "\"restored 'rpart'\""
     ]
    },
    {
     "name": "stdout",
     "output_type": "stream",
     "text": [
      "\n",
      "The downloaded binary packages are in\n",
      "\tC:\\Users\\Neel\\AppData\\Local\\Temp\\RtmpcbMszQ\\downloaded_packages\n",
      "\n",
      "  There is a binary version available but the source version is later:\n",
      "           binary source needs_compilation\n",
      "rpart.plot  3.0.9  3.1.1             FALSE\n",
      "\n"
     ]
    },
    {
     "name": "stderr",
     "output_type": "stream",
     "text": [
      "installing the source package 'rpart.plot'\n",
      "\n"
     ]
    }
   ],
   "source": [
    "install.packages(\"readxl\")\n",
    "install.packages(\"reshape2\")\n",
    "install.packages(\"lpSolve\", dependencies = TRUE)\n",
    "install.packages(\"rpart\", dependencies = TRUE)\n",
    "install.packages(\"rpart.plot\", dependencies = TRUE)\n"
   ]
  },
  {
   "cell_type": "markdown",
   "id": "294af7bb",
   "metadata": {},
   "source": [
    "# Q1 : Compare Demand prediction results of Regression Tree and Linear Regression Methods"
   ]
  },
  {
   "cell_type": "code",
   "execution_count": 2,
   "id": "5bf5a6a9",
   "metadata": {},
   "outputs": [
    {
     "name": "stderr",
     "output_type": "stream",
     "text": [
      "Warning message:\n",
      "\"package 'readxl' was built under R version 3.6.3\"Registered S3 methods overwritten by 'ggplot2':\n",
      "  method         from \n",
      "  [.quosures     rlang\n",
      "  c.quosures     rlang\n",
      "  print.quosures rlang\n",
      "Warning message:\n",
      "\"package 'reshape2' was built under R version 3.6.3\"Warning message:\n",
      "\"package 'lpSolve' was built under R version 3.6.2\"Warning message:\n",
      "\"package 'rpart' was built under R version 3.6.3\""
     ]
    }
   ],
   "source": [
    "library(readxl)\n",
    "library(ggplot2)\n",
    "library(reshape2)\n",
    "library(\"lpSolve\")\n",
    "library(rpart)\n",
    "library(rpart.plot)"
   ]
  },
  {
   "cell_type": "code",
   "execution_count": 3,
   "id": "a85366b3",
   "metadata": {
    "scrolled": true
   },
   "outputs": [
    {
     "name": "stdout",
     "output_type": "stream",
     "text": [
      "[1] 2201\n"
     ]
    }
   ],
   "source": [
    "#Reading excel to get data.\n",
    "data <- read_excel(\"C:\\\\Users\\\\Neel\\\\Desktop\\\\Operations Analytics\\\\Assignment_07\\\\Part_2_01.xlsx\")\n",
    "# Split data into training and testing sets\n",
    "#Freezing train and test data using setseed\n",
    "set.seed(212)\n",
    "train_index <- sample(1:nrow(data), nrow(data) * 0.9)\n",
    "df <- data[train_index, ]\n",
    "test_data <- data[-train_index, ]\n",
    "#Checking number of rows of train dataset to crosscheck split\n",
    "print(nrow(df))"
   ]
  },
  {
   "cell_type": "code",
   "execution_count": 4,
   "id": "0fd654e1",
   "metadata": {},
   "outputs": [
    {
     "data": {
      "image/png": "[encoded data removed]",
      "text/plain": [
       "plot without title"
      ]
     },
     "metadata": {},
     "output_type": "display_data"
    }
   ],
   "source": [
    "# Correlation matrix for determining co-relation of fields\n",
    "corr_matrix <- cor(df)\n",
    "# Corelation heat map for visualizing co-relation\n",
    "ggplot(data = melt(corr_matrix), aes(x = Var1, y = Var2, fill = value)) +\n",
    "  geom_tile() +\n",
    "  scale_fill_gradient2(low = \"blue\", mid = \"white\", high = \"red\", midpoint = 0) +\n",
    "  theme_minimal() +\n",
    "  theme(axis.text.x = element_text(angle = 90, vjust = 0.5, hjust=1),\n",
    "        axis.text.y = element_text(angle = 0, vjust = 0.5, hjust=1))"
   ]
  },
  {
   "cell_type": "code",
   "execution_count": 5,
   "id": "b942edfc",
   "metadata": {
    "scrolled": false
   },
   "outputs": [
    {
     "data": {
      "text/plain": [
       "\n",
       "Call:\n",
       "lm(formula = Demand ~ Price + Beginning_of_Season + Weekend + \n",
       "    Event_Length + Morning + Branded + Color_Popularity + ConcurrentEvents + \n",
       "    Number_Competing_Styles_in_Event + Relative_Price_of_Competing_Styles + \n",
       "    Brand_MSRP_Index + Bottoms + Tops, data = df)\n",
       "\n",
       "Residuals:\n",
       "    Min      1Q  Median      3Q     Max \n",
       "-3226.5  -924.6  -314.2   452.7 15969.8 \n",
       "\n",
       "Coefficients:\n",
       "                                    Estimate Std. Error t value Pr(>|t|)    \n",
       "(Intercept)                        12208.805    433.309  28.176  < 2e-16 ***\n",
       "Price                               -215.866      8.907 -24.235  < 2e-16 ***\n",
       "Beginning_of_Season                   15.133     77.648   0.195 0.845493    \n",
       "Weekend                              -11.877    103.073  -0.115 0.908273    \n",
       "Event_Length                         308.785     83.200   3.711 0.000211 ***\n",
       "Morning                             -765.435    164.071  -4.665 3.27e-06 ***\n",
       "Branded                              718.375     94.811   7.577 5.19e-14 ***\n",
       "Color_Popularity                     703.536    318.402   2.210 0.027237 *  \n",
       "ConcurrentEvents                      -9.755     36.396  -0.268 0.788702    \n",
       "Number_Competing_Styles_in_Event       3.002      2.251   1.333 0.182511    \n",
       "Relative_Price_of_Competing_Styles  -895.745    134.988  -6.636 4.06e-11 ***\n",
       "Brand_MSRP_Index                    -448.305     66.079  -6.784 1.50e-11 ***\n",
       "Bottoms                               99.760    137.128   0.727 0.467001    \n",
       "Tops                                  18.670     77.548   0.241 0.809772    \n",
       "---\n",
       "Signif. codes:  0 '***' 0.001 '**' 0.01 '*' 0.05 '.' 0.1 ' ' 1\n",
       "\n",
       "Residual standard error: 1664 on 2187 degrees of freedom\n",
       "Multiple R-squared:  0.3343,\tAdjusted R-squared:  0.3303 \n",
       "F-statistic: 84.48 on 13 and 2187 DF,  p-value: < 2.2e-16\n"
      ]
     },
     "metadata": {},
     "output_type": "display_data"
    }
   ],
   "source": [
    "#So based on above analysis we will not take columns Num_Braded_Events12 and Dresses while making Linear Regression model\n",
    "#Multi-linear Regression model building:\n",
    "model <- lm(Demand ~ Price + Beginning_of_Season + Weekend + Event_Length + Morning + Branded + Color_Popularity + ConcurrentEvents + Number_Competing_Styles_in_Event + Relative_Price_of_Competing_Styles + Brand_MSRP_Index + Bottoms + Tops, data = df)\n",
    "summary(model)"
   ]
  },
  {
   "cell_type": "code",
   "execution_count": 6,
   "id": "cf6d6754",
   "metadata": {
    "scrolled": false
   },
   "outputs": [
    {
     "data": {
      "text/html": [
       "<table>\n",
       "<thead><tr><th></th><th scope=col>Estimate</th><th scope=col>Std. Error</th><th scope=col>t value</th><th scope=col>Pr(&gt;|t|)</th></tr></thead>\n",
       "<tbody>\n",
       "\t<tr><th scope=row>(Intercept)</th><td>12208.804835 </td><td>433.308829   </td><td> 28.1757583  </td><td>2.810068e-149</td></tr>\n",
       "\t<tr><th scope=row>Price</th><td> -215.866250 </td><td>  8.907052   </td><td>-24.2354320  </td><td>3.936623e-115</td></tr>\n",
       "\t<tr><th scope=row>Beginning_of_Season</th><td>   15.133115 </td><td> 77.647556   </td><td>  0.1948949  </td><td> 8.454933e-01</td></tr>\n",
       "\t<tr><th scope=row>Weekend</th><td>  -11.877173 </td><td>103.072879   </td><td> -0.1152308  </td><td> 9.082727e-01</td></tr>\n",
       "\t<tr><th scope=row>Event_Length</th><td>  308.785136 </td><td> 83.199892   </td><td>  3.7113646  </td><td> 2.112929e-04</td></tr>\n",
       "\t<tr><th scope=row>Morning</th><td> -765.434621 </td><td>164.070708   </td><td> -4.6652729  </td><td> 3.268286e-06</td></tr>\n",
       "\t<tr><th scope=row>Branded</th><td>  718.374940 </td><td> 94.811180   </td><td>  7.5769012  </td><td> 5.191407e-14</td></tr>\n",
       "\t<tr><th scope=row>Color_Popularity</th><td>  703.536192 </td><td>318.401536   </td><td>  2.2095879  </td><td> 2.723703e-02</td></tr>\n",
       "\t<tr><th scope=row>ConcurrentEvents</th><td>   -9.755087 </td><td> 36.395650   </td><td> -0.2680289  </td><td> 7.887023e-01</td></tr>\n",
       "\t<tr><th scope=row>Number_Competing_Styles_in_Event</th><td>    3.001752 </td><td>  2.251054   </td><td>  1.3334872  </td><td> 1.825108e-01</td></tr>\n",
       "\t<tr><th scope=row>Relative_Price_of_Competing_Styles</th><td> -895.744627 </td><td>134.988066   </td><td> -6.6357320  </td><td> 4.058199e-11</td></tr>\n",
       "\t<tr><th scope=row>Brand_MSRP_Index</th><td> -448.305445 </td><td> 66.079210   </td><td> -6.7843645  </td><td> 1.495877e-11</td></tr>\n",
       "\t<tr><th scope=row>Bottoms</th><td>   99.760092 </td><td>137.128322   </td><td>  0.7274944  </td><td> 4.670010e-01</td></tr>\n",
       "\t<tr><th scope=row>Tops</th><td>   18.669709 </td><td> 77.548268   </td><td>  0.2407495  </td><td> 8.097718e-01</td></tr>\n",
       "</tbody>\n",
       "</table>\n"
      ],
      "text/latex": [
       "\\begin{tabular}{r|llll}\n",
       "  & Estimate & Std. Error & t value & Pr(>\\textbar{}t\\textbar{})\\\\\n",
       "\\hline\n",
       "\t(Intercept) & 12208.804835  & 433.308829    &  28.1757583   & 2.810068e-149\\\\\n",
       "\tPrice &  -215.866250  &   8.907052    & -24.2354320   & 3.936623e-115\\\\\n",
       "\tBeginning\\_of\\_Season &    15.133115  &  77.647556    &   0.1948949   &  8.454933e-01\\\\\n",
       "\tWeekend &   -11.877173  & 103.072879    &  -0.1152308   &  9.082727e-01\\\\\n",
       "\tEvent\\_Length &   308.785136  &  83.199892    &   3.7113646   &  2.112929e-04\\\\\n",
       "\tMorning &  -765.434621  & 164.070708    &  -4.6652729   &  3.268286e-06\\\\\n",
       "\tBranded &   718.374940  &  94.811180    &   7.5769012   &  5.191407e-14\\\\\n",
       "\tColor\\_Popularity &   703.536192  & 318.401536    &   2.2095879   &  2.723703e-02\\\\\n",
       "\tConcurrentEvents &    -9.755087  &  36.395650    &  -0.2680289   &  7.887023e-01\\\\\n",
       "\tNumber\\_Competing\\_Styles\\_in\\_Event &     3.001752  &   2.251054    &   1.3334872   &  1.825108e-01\\\\\n",
       "\tRelative\\_Price\\_of\\_Competing\\_Styles &  -895.744627  & 134.988066    &  -6.6357320   &  4.058199e-11\\\\\n",
       "\tBrand\\_MSRP\\_Index &  -448.305445  &  66.079210    &  -6.7843645   &  1.495877e-11\\\\\n",
       "\tBottoms &    99.760092  & 137.128322    &   0.7274944   &  4.670010e-01\\\\\n",
       "\tTops &    18.669709  &  77.548268    &   0.2407495   &  8.097718e-01\\\\\n",
       "\\end{tabular}\n"
      ],
      "text/markdown": [
       "\n",
       "| <!--/--> | Estimate | Std. Error | t value | Pr(>|t|) |\n",
       "|---|---|---|---|---|\n",
       "| (Intercept) | 12208.804835  | 433.308829    |  28.1757583   | 2.810068e-149 |\n",
       "| Price |  -215.866250  |   8.907052    | -24.2354320   | 3.936623e-115 |\n",
       "| Beginning_of_Season |    15.133115  |  77.647556    |   0.1948949   |  8.454933e-01 |\n",
       "| Weekend |   -11.877173  | 103.072879    |  -0.1152308   |  9.082727e-01 |\n",
       "| Event_Length |   308.785136  |  83.199892    |   3.7113646   |  2.112929e-04 |\n",
       "| Morning |  -765.434621  | 164.070708    |  -4.6652729   |  3.268286e-06 |\n",
       "| Branded |   718.374940  |  94.811180    |   7.5769012   |  5.191407e-14 |\n",
       "| Color_Popularity |   703.536192  | 318.401536    |   2.2095879   |  2.723703e-02 |\n",
       "| ConcurrentEvents |    -9.755087  |  36.395650    |  -0.2680289   |  7.887023e-01 |\n",
       "| Number_Competing_Styles_in_Event |     3.001752  |   2.251054    |   1.3334872   |  1.825108e-01 |\n",
       "| Relative_Price_of_Competing_Styles |  -895.744627  | 134.988066    |  -6.6357320   |  4.058199e-11 |\n",
       "| Brand_MSRP_Index |  -448.305445  |  66.079210    |  -6.7843645   |  1.495877e-11 |\n",
       "| Bottoms |    99.760092  | 137.128322    |   0.7274944   |  4.670010e-01 |\n",
       "| Tops |    18.669709  |  77.548268    |   0.2407495   |  8.097718e-01 |\n",
       "\n"
      ],
      "text/plain": [
       "                                   Estimate     Std. Error t value    \n",
       "(Intercept)                        12208.804835 433.308829  28.1757583\n",
       "Price                               -215.866250   8.907052 -24.2354320\n",
       "Beginning_of_Season                   15.133115  77.647556   0.1948949\n",
       "Weekend                              -11.877173 103.072879  -0.1152308\n",
       "Event_Length                         308.785136  83.199892   3.7113646\n",
       "Morning                             -765.434621 164.070708  -4.6652729\n",
       "Branded                              718.374940  94.811180   7.5769012\n",
       "Color_Popularity                     703.536192 318.401536   2.2095879\n",
       "ConcurrentEvents                      -9.755087  36.395650  -0.2680289\n",
       "Number_Competing_Styles_in_Event       3.001752   2.251054   1.3334872\n",
       "Relative_Price_of_Competing_Styles  -895.744627 134.988066  -6.6357320\n",
       "Brand_MSRP_Index                    -448.305445  66.079210  -6.7843645\n",
       "Bottoms                               99.760092 137.128322   0.7274944\n",
       "Tops                                  18.669709  77.548268   0.2407495\n",
       "                                   Pr(>|t|)     \n",
       "(Intercept)                        2.810068e-149\n",
       "Price                              3.936623e-115\n",
       "Beginning_of_Season                 8.454933e-01\n",
       "Weekend                             9.082727e-01\n",
       "Event_Length                        2.112929e-04\n",
       "Morning                             3.268286e-06\n",
       "Branded                             5.191407e-14\n",
       "Color_Popularity                    2.723703e-02\n",
       "ConcurrentEvents                    7.887023e-01\n",
       "Number_Competing_Styles_in_Event    1.825108e-01\n",
       "Relative_Price_of_Competing_Styles  4.058199e-11\n",
       "Brand_MSRP_Index                    1.495877e-11\n",
       "Bottoms                             4.670010e-01\n",
       "Tops                                8.097718e-01"
      ]
     },
     "metadata": {},
     "output_type": "display_data"
    }
   ],
   "source": [
    "#Displaying summary of model that consists of intercept, co-efficients and std.error\n",
    "summary(model)$coefficient"
   ]
  },
  {
   "cell_type": "code",
   "execution_count": 7,
   "id": "e363d891",
   "metadata": {},
   "outputs": [
    {
     "data": {
      "text/html": [
       "<dl class=dl-horizontal>\n",
       "\t<dt>1</dt>\n",
       "\t\t<dd>6088.22724688801</dd>\n",
       "\t<dt>2</dt>\n",
       "\t\t<dd>6879.67387331079</dd>\n",
       "\t<dt>3</dt>\n",
       "\t\t<dd>5187.88421690026</dd>\n",
       "\t<dt>4</dt>\n",
       "\t\t<dd>5892.95735489479</dd>\n",
       "\t<dt>5</dt>\n",
       "\t\t<dd>3189.14334222934</dd>\n",
       "\t<dt>6</dt>\n",
       "\t\t<dd>4736.40789878301</dd>\n",
       "</dl>\n"
      ],
      "text/latex": [
       "\\begin{description*}\n",
       "\\item[1] 6088.22724688801\n",
       "\\item[2] 6879.67387331079\n",
       "\\item[3] 5187.88421690026\n",
       "\\item[4] 5892.95735489479\n",
       "\\item[5] 3189.14334222934\n",
       "\\item[6] 4736.40789878301\n",
       "\\end{description*}\n"
      ],
      "text/markdown": [
       "1\n",
       ":   6088.227246888012\n",
       ":   6879.673873310793\n",
       ":   5187.884216900264\n",
       ":   5892.957354894795\n",
       ":   3189.143342229346\n",
       ":   4736.40789878301\n",
       "\n"
      ],
      "text/plain": [
       "       1        2        3        4        5        6 \n",
       "6088.227 6879.674 5187.884 5892.957 3189.143 4736.408 "
      ]
     },
     "metadata": {},
     "output_type": "display_data"
    }
   ],
   "source": [
    "#Predicting demand on 10% test dataset using Linear Regression\n",
    "Demand_linear_reg <- predict(model,test_data)\n",
    "head(Demand_linear_reg)"
   ]
  },
  {
   "cell_type": "code",
   "execution_count": 8,
   "id": "75fdb564",
   "metadata": {},
   "outputs": [
    {
     "data": {
      "text/plain": [
       "n= 2201 \n",
       "\n",
       "node), split, n, deviance, yval\n",
       "      * denotes terminal node\n",
       "\n",
       " 1) root 2201 9093857000  4837.558  \n",
       "   2) Price>=30.5 893  118040100  3387.254 *\n",
       "   3) Price< 30.5 1308 5815128000  5827.712  \n",
       "     6) Brand_MSRP_Index>=0.5241499 1194 3972699000  5674.785  \n",
       "      12) Event_Length< 3.5 1182 3743875000  5646.299 *\n",
       "      13) Event_Length>=3.5 12  133391400  8480.639 *\n",
       "     7) Brand_MSRP_Index< 0.5241499 114 1522044000  7429.414  \n",
       "      14) Number_Competing_Styles_in_Event< 44 102  823279800  6851.148  \n",
       "        28) Brand_MSRP_Index>=0.265226 92  435369700  6477.533 *\n",
       "        29) Brand_MSRP_Index< 0.265226 10  256920700 10288.410 *\n",
       "      15) Number_Competing_Styles_in_Event>=44 12  374738200 12344.680 *"
      ]
     },
     "metadata": {},
     "output_type": "display_data"
    },
    {
     "data": {
      "image/png": "[encoded data removed]",
      "text/plain": [
       "plot without title"
      ]
     },
     "metadata": {},
     "output_type": "display_data"
    }
   ],
   "source": [
    "#Regression Tree model building\n",
    "reg_tree= rpart(formula = Demand~ .-Item , data = df, method = \"anova\")\n",
    "reg_tree\n",
    "#Visualize Regression tree\n",
    "rpart.plot(reg_tree)"
   ]
  },
  {
   "cell_type": "code",
   "execution_count": 9,
   "id": "d58d4fec",
   "metadata": {},
   "outputs": [
    {
     "data": {
      "text/html": [
       "2289838.73892245"
      ],
      "text/latex": [
       "2289838.73892245"
      ],
      "text/markdown": [
       "2289838.73892245"
      ],
      "text/plain": [
       "[1] 2289839"
      ]
     },
     "metadata": {},
     "output_type": "display_data"
    }
   ],
   "source": [
    "#Evaluate Regression tree through MSE calculation\n",
    "reg_tree_pred <- predict(reg_tree, newdata = test_data)\n",
    "reg_tree_mse <- mean((test_data$Demand - reg_tree_pred)^2)\n",
    "reg_tree_mse"
   ]
  },
  {
   "cell_type": "code",
   "execution_count": 10,
   "id": "fa223e41",
   "metadata": {},
   "outputs": [
    {
     "data": {
      "text/html": [
       "2738001.87412075"
      ],
      "text/latex": [
       "2738001.87412075"
      ],
      "text/markdown": [
       "2738001.87412075"
      ],
      "text/plain": [
       "[1] 2738002"
      ]
     },
     "metadata": {},
     "output_type": "display_data"
    }
   ],
   "source": [
    "#Evaluate Linear Regression through MSE calculation\n",
    "Linear_reg_mse <- mean((test_data$Demand - Demand_linear_reg)^2)\n",
    "Linear_reg_mse"
   ]
  },
  {
   "cell_type": "code",
   "execution_count": 11,
   "id": "9032c2e5",
   "metadata": {},
   "outputs": [
    {
     "data": {
      "image/png": "[encoded data removed]",
      "text/plain": [
       "Plot with title \"Bar Plot for MSE comparision\""
      ]
     },
     "metadata": {},
     "output_type": "display_data"
    }
   ],
   "source": [
    "values <- cbind(reg_tree_mse,Linear_reg_mse)\n",
    "colnames(values) <- c(\"Regression Tree\", \"Linear Regression\")\n",
    "rownames(values) <- (\"Mean Square Error (MSE)\")\n",
    "# Create a bar plot of the values\n",
    "barplot(\n",
    "  values,\n",
    "  xlab = \"Models\",\n",
    "  ylab = \"MSE\",\n",
    "  main = \"Bar Plot for MSE comparision\",\n",
    "  args.legend = colnames(values)\n",
    ")"
   ]
  },
  {
   "cell_type": "markdown",
   "id": "80b36e60",
   "metadata": {},
   "source": [
    "#### Here MSE of Linear Regression model is more than MSE of Regression Tree for predicting demand on 10% Test Data"
   ]
  },
  {
   "cell_type": "code",
   "execution_count": 12,
   "id": "e969ad2d",
   "metadata": {},
   "outputs": [
    {
     "data": {
      "text/html": [
       "<table>\n",
       "<thead><tr><th scope=col>Item</th><th scope=col>Beginning_of_Season</th><th scope=col>Weekend</th><th scope=col>Event_Length</th><th scope=col>Morning</th><th scope=col>Branded</th><th scope=col>Color_Popularity</th><th scope=col>ConcurrentEvents</th><th scope=col>Number_Competing_Styles_in_Event</th><th scope=col>Num_Branded_Events12</th><th scope=col>Brand_MSRP_Index</th><th scope=col>Bottoms</th><th scope=col>Tops</th><th scope=col>Dresses</th></tr></thead>\n",
       "<tbody>\n",
       "\t<tr><td>1       </td><td>1       </td><td>0       </td><td>2       </td><td>0       </td><td>1       </td><td>0.17    </td><td>2       </td><td>3       </td><td>2       </td><td>0.870289</td><td>0       </td><td>1       </td><td>0       </td></tr>\n",
       "\t<tr><td>2       </td><td>1       </td><td>0       </td><td>2       </td><td>0       </td><td>0       </td><td>0.65    </td><td>2       </td><td>3       </td><td>1       </td><td>0.330000</td><td>0       </td><td>1       </td><td>0       </td></tr>\n",
       "\t<tr><td>3       </td><td>1       </td><td>0       </td><td>2       </td><td>0       </td><td>1       </td><td>0.08    </td><td>2       </td><td>3       </td><td>1       </td><td>1.184811</td><td>0       </td><td>1       </td><td>0       </td></tr>\n",
       "</tbody>\n",
       "</table>\n"
      ],
      "text/latex": [
       "\\begin{tabular}{r|llllllllllllll}\n",
       " Item & Beginning\\_of\\_Season & Weekend & Event\\_Length & Morning & Branded & Color\\_Popularity & ConcurrentEvents & Number\\_Competing\\_Styles\\_in\\_Event & Num\\_Branded\\_Events12 & Brand\\_MSRP\\_Index & Bottoms & Tops & Dresses\\\\\n",
       "\\hline\n",
       "\t 1        & 1        & 0        & 2        & 0        & 1        & 0.17     & 2        & 3        & 2        & 0.870289 & 0        & 1        & 0       \\\\\n",
       "\t 2        & 1        & 0        & 2        & 0        & 0        & 0.65     & 2        & 3        & 1        & 0.330000 & 0        & 1        & 0       \\\\\n",
       "\t 3        & 1        & 0        & 2        & 0        & 1        & 0.08     & 2        & 3        & 1        & 1.184811 & 0        & 1        & 0       \\\\\n",
       "\\end{tabular}\n"
      ],
      "text/markdown": [
       "\n",
       "| Item | Beginning_of_Season | Weekend | Event_Length | Morning | Branded | Color_Popularity | ConcurrentEvents | Number_Competing_Styles_in_Event | Num_Branded_Events12 | Brand_MSRP_Index | Bottoms | Tops | Dresses |\n",
       "|---|---|---|---|---|---|---|---|---|---|---|---|---|---|\n",
       "| 1        | 1        | 0        | 2        | 0        | 1        | 0.17     | 2        | 3        | 2        | 0.870289 | 0        | 1        | 0        |\n",
       "| 2        | 1        | 0        | 2        | 0        | 0        | 0.65     | 2        | 3        | 1        | 0.330000 | 0        | 1        | 0        |\n",
       "| 3        | 1        | 0        | 2        | 0        | 1        | 0.08     | 2        | 3        | 1        | 1.184811 | 0        | 1        | 0        |\n",
       "\n"
      ],
      "text/plain": [
       "  Item Beginning_of_Season Weekend Event_Length Morning Branded\n",
       "1 1    1                   0       2            0       1      \n",
       "2 2    1                   0       2            0       0      \n",
       "3 3    1                   0       2            0       1      \n",
       "  Color_Popularity ConcurrentEvents Number_Competing_Styles_in_Event\n",
       "1 0.17             2                3                               \n",
       "2 0.65             2                3                               \n",
       "3 0.08             2                3                               \n",
       "  Num_Branded_Events12 Brand_MSRP_Index Bottoms Tops Dresses\n",
       "1 2                    0.870289         0       1    0      \n",
       "2 1                    0.330000         0       1    0      \n",
       "3 1                    1.184811         0       1    0      "
      ]
     },
     "metadata": {},
     "output_type": "display_data"
    }
   ],
   "source": [
    "#Importing Execel file to predict optimal price for item A, item B and item C. Here Item 1 = Item A, Item 2 = Item B and Item 3 = Item C.\n",
    "Data_test= read_excel(file.choose())\n",
    "head(Data_test)"
   ]
  },
  {
   "cell_type": "code",
   "execution_count": 13,
   "id": "e0155c76",
   "metadata": {},
   "outputs": [
    {
     "data": {
      "text/html": [
       "<ol class=list-inline>\n",
       "\t<li>25</li>\n",
       "\t<li>30</li>\n",
       "\t<li>35</li>\n",
       "\t<li>25</li>\n",
       "\t<li>30</li>\n",
       "\t<li>35</li>\n",
       "\t<li>25</li>\n",
       "\t<li>30</li>\n",
       "\t<li>35</li>\n",
       "</ol>\n"
      ],
      "text/latex": [
       "\\begin{enumerate*}\n",
       "\\item 25\n",
       "\\item 30\n",
       "\\item 35\n",
       "\\item 25\n",
       "\\item 30\n",
       "\\item 35\n",
       "\\item 25\n",
       "\\item 30\n",
       "\\item 35\n",
       "\\end{enumerate*}\n"
      ],
      "text/markdown": [
       "1. 25\n",
       "2. 30\n",
       "3. 35\n",
       "4. 25\n",
       "5. 30\n",
       "6. 35\n",
       "7. 25\n",
       "8. 30\n",
       "9. 35\n",
       "\n",
       "\n"
      ],
      "text/plain": [
       "[1] 25 30 35 25 30 35 25 30 35"
      ]
     },
     "metadata": {},
     "output_type": "display_data"
    }
   ],
   "source": [
    "#Making Price vector\n",
    "Prices= c(25, 30, 35)\n",
    "P = rep(Prices, nrow(Data_test))\n",
    "P\n",
    "Items_names <- c(\"A\",\"A\",\"A\",\"B\",\"B\",\"B\",\"C\",\"C\",\"C\")"
   ]
  },
  {
   "cell_type": "code",
   "execution_count": 14,
   "id": "8431fc82",
   "metadata": {},
   "outputs": [
    {
     "data": {
      "text/html": [
       "<ol class=list-inline>\n",
       "\t<li>75</li>\n",
       "\t<li>80</li>\n",
       "\t<li>85</li>\n",
       "\t<li>90</li>\n",
       "\t<li>95</li>\n",
       "\t<li>100</li>\n",
       "\t<li>105</li>\n",
       "</ol>\n"
      ],
      "text/latex": [
       "\\begin{enumerate*}\n",
       "\\item 75\n",
       "\\item 80\n",
       "\\item 85\n",
       "\\item 90\n",
       "\\item 95\n",
       "\\item 100\n",
       "\\item 105\n",
       "\\end{enumerate*}\n"
      ],
      "text/markdown": [
       "1. 75\n",
       "2. 80\n",
       "3. 85\n",
       "4. 90\n",
       "5. 95\n",
       "6. 100\n",
       "7. 105\n",
       "\n",
       "\n"
      ],
      "text/plain": [
       "[1]  75  80  85  90  95 100 105"
      ]
     },
     "metadata": {},
     "output_type": "display_data"
    }
   ],
   "source": [
    "#Making k vector that consists of all possible values of k\n",
    "possible_k= seq(nrow(Data_test)*min(Prices), nrow(Data_test)*max(Prices), by=5)\n",
    "possible_k"
   ]
  },
  {
   "cell_type": "code",
   "execution_count": 15,
   "id": "5e3f36c7",
   "metadata": {},
   "outputs": [
    {
     "data": {
      "text/html": [
       "<table>\n",
       "<thead><tr><th scope=col>Item</th><th scope=col>Beginning_of_Season</th><th scope=col>Weekend</th><th scope=col>Event_Length</th><th scope=col>Morning</th><th scope=col>Branded</th><th scope=col>Color_Popularity</th><th scope=col>ConcurrentEvents</th><th scope=col>Number_Competing_Styles_in_Event</th><th scope=col>Num_Branded_Events12</th><th scope=col>Brand_MSRP_Index</th><th scope=col>Bottoms</th><th scope=col>Tops</th><th scope=col>Dresses</th></tr></thead>\n",
       "<tbody>\n",
       "\t<tr><td>1       </td><td>1       </td><td>0       </td><td>2       </td><td>0       </td><td>1       </td><td>0.17    </td><td>2       </td><td>3       </td><td>2       </td><td>0.870289</td><td>0       </td><td>1       </td><td>0       </td></tr>\n",
       "\t<tr><td>1       </td><td>1       </td><td>0       </td><td>2       </td><td>0       </td><td>1       </td><td>0.17    </td><td>2       </td><td>3       </td><td>2       </td><td>0.870289</td><td>0       </td><td>1       </td><td>0       </td></tr>\n",
       "\t<tr><td>1       </td><td>1       </td><td>0       </td><td>2       </td><td>0       </td><td>1       </td><td>0.17    </td><td>2       </td><td>3       </td><td>2       </td><td>0.870289</td><td>0       </td><td>1       </td><td>0       </td></tr>\n",
       "\t<tr><td>2       </td><td>1       </td><td>0       </td><td>2       </td><td>0       </td><td>0       </td><td>0.65    </td><td>2       </td><td>3       </td><td>1       </td><td>0.330000</td><td>0       </td><td>1       </td><td>0       </td></tr>\n",
       "\t<tr><td>2       </td><td>1       </td><td>0       </td><td>2       </td><td>0       </td><td>0       </td><td>0.65    </td><td>2       </td><td>3       </td><td>1       </td><td>0.330000</td><td>0       </td><td>1       </td><td>0       </td></tr>\n",
       "\t<tr><td>2       </td><td>1       </td><td>0       </td><td>2       </td><td>0       </td><td>0       </td><td>0.65    </td><td>2       </td><td>3       </td><td>1       </td><td>0.330000</td><td>0       </td><td>1       </td><td>0       </td></tr>\n",
       "\t<tr><td>3       </td><td>1       </td><td>0       </td><td>2       </td><td>0       </td><td>1       </td><td>0.08    </td><td>2       </td><td>3       </td><td>1       </td><td>1.184811</td><td>0       </td><td>1       </td><td>0       </td></tr>\n",
       "\t<tr><td>3       </td><td>1       </td><td>0       </td><td>2       </td><td>0       </td><td>1       </td><td>0.08    </td><td>2       </td><td>3       </td><td>1       </td><td>1.184811</td><td>0       </td><td>1       </td><td>0       </td></tr>\n",
       "\t<tr><td>3       </td><td>1       </td><td>0       </td><td>2       </td><td>0       </td><td>1       </td><td>0.08    </td><td>2       </td><td>3       </td><td>1       </td><td>1.184811</td><td>0       </td><td>1       </td><td>0       </td></tr>\n",
       "</tbody>\n",
       "</table>\n"
      ],
      "text/latex": [
       "\\begin{tabular}{r|llllllllllllll}\n",
       " Item & Beginning\\_of\\_Season & Weekend & Event\\_Length & Morning & Branded & Color\\_Popularity & ConcurrentEvents & Number\\_Competing\\_Styles\\_in\\_Event & Num\\_Branded\\_Events12 & Brand\\_MSRP\\_Index & Bottoms & Tops & Dresses\\\\\n",
       "\\hline\n",
       "\t 1        & 1        & 0        & 2        & 0        & 1        & 0.17     & 2        & 3        & 2        & 0.870289 & 0        & 1        & 0       \\\\\n",
       "\t 1        & 1        & 0        & 2        & 0        & 1        & 0.17     & 2        & 3        & 2        & 0.870289 & 0        & 1        & 0       \\\\\n",
       "\t 1        & 1        & 0        & 2        & 0        & 1        & 0.17     & 2        & 3        & 2        & 0.870289 & 0        & 1        & 0       \\\\\n",
       "\t 2        & 1        & 0        & 2        & 0        & 0        & 0.65     & 2        & 3        & 1        & 0.330000 & 0        & 1        & 0       \\\\\n",
       "\t 2        & 1        & 0        & 2        & 0        & 0        & 0.65     & 2        & 3        & 1        & 0.330000 & 0        & 1        & 0       \\\\\n",
       "\t 2        & 1        & 0        & 2        & 0        & 0        & 0.65     & 2        & 3        & 1        & 0.330000 & 0        & 1        & 0       \\\\\n",
       "\t 3        & 1        & 0        & 2        & 0        & 1        & 0.08     & 2        & 3        & 1        & 1.184811 & 0        & 1        & 0       \\\\\n",
       "\t 3        & 1        & 0        & 2        & 0        & 1        & 0.08     & 2        & 3        & 1        & 1.184811 & 0        & 1        & 0       \\\\\n",
       "\t 3        & 1        & 0        & 2        & 0        & 1        & 0.08     & 2        & 3        & 1        & 1.184811 & 0        & 1        & 0       \\\\\n",
       "\\end{tabular}\n"
      ],
      "text/markdown": [
       "\n",
       "| Item | Beginning_of_Season | Weekend | Event_Length | Morning | Branded | Color_Popularity | ConcurrentEvents | Number_Competing_Styles_in_Event | Num_Branded_Events12 | Brand_MSRP_Index | Bottoms | Tops | Dresses |\n",
       "|---|---|---|---|---|---|---|---|---|---|---|---|---|---|\n",
       "| 1        | 1        | 0        | 2        | 0        | 1        | 0.17     | 2        | 3        | 2        | 0.870289 | 0        | 1        | 0        |\n",
       "| 1        | 1        | 0        | 2        | 0        | 1        | 0.17     | 2        | 3        | 2        | 0.870289 | 0        | 1        | 0        |\n",
       "| 1        | 1        | 0        | 2        | 0        | 1        | 0.17     | 2        | 3        | 2        | 0.870289 | 0        | 1        | 0        |\n",
       "| 2        | 1        | 0        | 2        | 0        | 0        | 0.65     | 2        | 3        | 1        | 0.330000 | 0        | 1        | 0        |\n",
       "| 2        | 1        | 0        | 2        | 0        | 0        | 0.65     | 2        | 3        | 1        | 0.330000 | 0        | 1        | 0        |\n",
       "| 2        | 1        | 0        | 2        | 0        | 0        | 0.65     | 2        | 3        | 1        | 0.330000 | 0        | 1        | 0        |\n",
       "| 3        | 1        | 0        | 2        | 0        | 1        | 0.08     | 2        | 3        | 1        | 1.184811 | 0        | 1        | 0        |\n",
       "| 3        | 1        | 0        | 2        | 0        | 1        | 0.08     | 2        | 3        | 1        | 1.184811 | 0        | 1        | 0        |\n",
       "| 3        | 1        | 0        | 2        | 0        | 1        | 0.08     | 2        | 3        | 1        | 1.184811 | 0        | 1        | 0        |\n",
       "\n"
      ],
      "text/plain": [
       "  Item Beginning_of_Season Weekend Event_Length Morning Branded\n",
       "1 1    1                   0       2            0       1      \n",
       "2 1    1                   0       2            0       1      \n",
       "3 1    1                   0       2            0       1      \n",
       "4 2    1                   0       2            0       0      \n",
       "5 2    1                   0       2            0       0      \n",
       "6 2    1                   0       2            0       0      \n",
       "7 3    1                   0       2            0       1      \n",
       "8 3    1                   0       2            0       1      \n",
       "9 3    1                   0       2            0       1      \n",
       "  Color_Popularity ConcurrentEvents Number_Competing_Styles_in_Event\n",
       "1 0.17             2                3                               \n",
       "2 0.17             2                3                               \n",
       "3 0.17             2                3                               \n",
       "4 0.65             2                3                               \n",
       "5 0.65             2                3                               \n",
       "6 0.65             2                3                               \n",
       "7 0.08             2                3                               \n",
       "8 0.08             2                3                               \n",
       "9 0.08             2                3                               \n",
       "  Num_Branded_Events12 Brand_MSRP_Index Bottoms Tops Dresses\n",
       "1 2                    0.870289         0       1    0      \n",
       "2 2                    0.870289         0       1    0      \n",
       "3 2                    0.870289         0       1    0      \n",
       "4 1                    0.330000         0       1    0      \n",
       "5 1                    0.330000         0       1    0      \n",
       "6 1                    0.330000         0       1    0      \n",
       "7 1                    1.184811         0       1    0      \n",
       "8 1                    1.184811         0       1    0      \n",
       "9 1                    1.184811         0       1    0      "
      ]
     },
     "metadata": {},
     "output_type": "display_data"
    }
   ],
   "source": [
    "#Repeting test data in new rows for predicting at different prices (25,30,35). \n",
    "Data_test2= Data_test[rep(seq_len(nrow(Data_test)), each = 3), ]\n",
    "Data_test2"
   ]
  },
  {
   "cell_type": "code",
   "execution_count": 16,
   "id": "62517441",
   "metadata": {},
   "outputs": [
    {
     "data": {
      "text/html": [
       "<ol class=list-inline>\n",
       "\t<li>'Item'</li>\n",
       "\t<li>'Beginning_of_Season'</li>\n",
       "\t<li>'Weekend'</li>\n",
       "\t<li>'Event_Length'</li>\n",
       "\t<li>'Morning'</li>\n",
       "\t<li>'Branded'</li>\n",
       "\t<li>'Color_Popularity'</li>\n",
       "\t<li>'ConcurrentEvents'</li>\n",
       "\t<li>'Number_Competing_Styles_in_Event'</li>\n",
       "\t<li>'Num_Branded_Events12'</li>\n",
       "\t<li>'Brand_MSRP_Index'</li>\n",
       "\t<li>'Bottoms'</li>\n",
       "\t<li>'Tops'</li>\n",
       "\t<li>'Dresses'</li>\n",
       "</ol>\n"
      ],
      "text/latex": [
       "\\begin{enumerate*}\n",
       "\\item 'Item'\n",
       "\\item 'Beginning\\_of\\_Season'\n",
       "\\item 'Weekend'\n",
       "\\item 'Event\\_Length'\n",
       "\\item 'Morning'\n",
       "\\item 'Branded'\n",
       "\\item 'Color\\_Popularity'\n",
       "\\item 'ConcurrentEvents'\n",
       "\\item 'Number\\_Competing\\_Styles\\_in\\_Event'\n",
       "\\item 'Num\\_Branded\\_Events12'\n",
       "\\item 'Brand\\_MSRP\\_Index'\n",
       "\\item 'Bottoms'\n",
       "\\item 'Tops'\n",
       "\\item 'Dresses'\n",
       "\\end{enumerate*}\n"
      ],
      "text/markdown": [
       "1. 'Item'\n",
       "2. 'Beginning_of_Season'\n",
       "3. 'Weekend'\n",
       "4. 'Event_Length'\n",
       "5. 'Morning'\n",
       "6. 'Branded'\n",
       "7. 'Color_Popularity'\n",
       "8. 'ConcurrentEvents'\n",
       "9. 'Number_Competing_Styles_in_Event'\n",
       "10. 'Num_Branded_Events12'\n",
       "11. 'Brand_MSRP_Index'\n",
       "12. 'Bottoms'\n",
       "13. 'Tops'\n",
       "14. 'Dresses'\n",
       "\n",
       "\n"
      ],
      "text/plain": [
       " [1] \"Item\"                             \"Beginning_of_Season\"             \n",
       " [3] \"Weekend\"                          \"Event_Length\"                    \n",
       " [5] \"Morning\"                          \"Branded\"                         \n",
       " [7] \"Color_Popularity\"                 \"ConcurrentEvents\"                \n",
       " [9] \"Number_Competing_Styles_in_Event\" \"Num_Branded_Events12\"            \n",
       "[11] \"Brand_MSRP_Index\"                 \"Bottoms\"                         \n",
       "[13] \"Tops\"                             \"Dresses\"                         "
      ]
     },
     "metadata": {},
     "output_type": "display_data"
    }
   ],
   "source": [
    "#Displaying column names of test data\n",
    "colnames(Data_test2)"
   ]
  },
  {
   "cell_type": "code",
   "execution_count": 17,
   "id": "ad79abb1",
   "metadata": {},
   "outputs": [],
   "source": [
    "#Building demand_pred, objectives and solutions vectors for displaying solution when predicting through regression trees.\n",
    "Demand_pred= vector(mode= \"numeric\")\n",
    "Objectives= vector(mode= \"numeric\")\n",
    "Solutions= matrix(nrow= length(possible_k), ncol= length(Prices)*nrow(Data_test))"
   ]
  },
  {
   "cell_type": "code",
   "execution_count": 18,
   "id": "e5064b40",
   "metadata": {},
   "outputs": [
    {
     "data": {
      "text/html": [
       "<ol class=list-inline>\n",
       "\t<li>5646.29929602882</li>\n",
       "\t<li>5646.29929602882</li>\n",
       "\t<li>3387.253733322</li>\n",
       "\t<li>6477.532794757</li>\n",
       "\t<li>6477.532794757</li>\n",
       "\t<li>3387.253733322</li>\n",
       "\t<li>5646.29929602882</li>\n",
       "\t<li>5646.29929602882</li>\n",
       "\t<li>3387.253733322</li>\n",
       "</ol>\n"
      ],
      "text/latex": [
       "\\begin{enumerate*}\n",
       "\\item 5646.29929602882\n",
       "\\item 5646.29929602882\n",
       "\\item 3387.253733322\n",
       "\\item 6477.532794757\n",
       "\\item 6477.532794757\n",
       "\\item 3387.253733322\n",
       "\\item 5646.29929602882\n",
       "\\item 5646.29929602882\n",
       "\\item 3387.253733322\n",
       "\\end{enumerate*}\n"
      ],
      "text/markdown": [
       "1. 5646.29929602882\n",
       "2. 5646.29929602882\n",
       "3. 3387.253733322\n",
       "4. 6477.532794757\n",
       "5. 6477.532794757\n",
       "6. 3387.253733322\n",
       "7. 5646.29929602882\n",
       "8. 5646.29929602882\n",
       "9. 3387.253733322\n",
       "\n",
       "\n"
      ],
      "text/plain": [
       "[1] 5646.299 5646.299 3387.254 6477.533 6477.533 3387.254 5646.299 5646.299\n",
       "[9] 3387.254"
      ]
     },
     "metadata": {},
     "output_type": "display_data"
    }
   ],
   "source": [
    "#Running for loop in order to solve optimization model for all values of k\n",
    "for (n in 1:length(possible_k)){\n",
    "    for (i in 1:length(P)){\n",
    "        Data_test2$Price= P[i]\n",
    "        Data_test2$Relative_Price_of_Competing_Styles= P[i]/(possible_k[n]/3)\n",
    "        Demand_pred[i]= predict(reg_tree, Data_test2[i,])\n",
    "    }\n",
    "    Obj_coeff= Demand_pred*P\n",
    "    Cons_coeff= matrix(c(1,1,1,0,0,0,0,0,0,\n",
    "                         0,0,0,1,1,1,0,0,0,\n",
    "                         0,0,0,0,0,0,1,1,1,\n",
    "                         P[1],P[2],P[3],P[4],P[5],P[6],P[7],P[8],P[9]), nrow=4, byrow=TRUE)\n",
    "    Dir = c(\"==\",\n",
    "            \"==\",\n",
    "            \"==\",\n",
    "            \"==\")\n",
    "    RHS= c(1,1,1, possible_k[n])\n",
    "    Model= lp(\"max\", Obj_coeff, Cons_coeff, Dir, RHS, all.bin= TRUE)\n",
    "    Objectives[n]= Model$objval\n",
    "    Solutions[n,]= Model$solution\n",
    "}\n",
    "Demand_pred\n",
    "#Demand prediction using Regression tree for different value of k"
   ]
  },
  {
   "cell_type": "code",
   "execution_count": 19,
   "id": "524edbc9",
   "metadata": {},
   "outputs": [
    {
     "data": {
      "text/html": [
       "<table>\n",
       "<thead><tr><th scope=col></th><th scope=col></th><th scope=col></th><th scope=col></th><th scope=col></th><th scope=col></th><th scope=col></th><th scope=col></th><th scope=col></th><th scope=col>possible_k</th></tr></thead>\n",
       "<tbody>\n",
       "\t<tr><td>1  </td><td>0  </td><td>0  </td><td>1  </td><td>0  </td><td>0  </td><td>1  </td><td>0  </td><td>0  </td><td> 75</td></tr>\n",
       "\t<tr><td>1  </td><td>0  </td><td>0  </td><td>0  </td><td>1  </td><td>0  </td><td>1  </td><td>0  </td><td>0  </td><td> 80</td></tr>\n",
       "\t<tr><td>0  </td><td>1  </td><td>0  </td><td>0  </td><td>1  </td><td>0  </td><td>1  </td><td>0  </td><td>0  </td><td> 85</td></tr>\n",
       "\t<tr><td>0  </td><td>1  </td><td>0  </td><td>0  </td><td>1  </td><td>0  </td><td>0  </td><td>1  </td><td>0  </td><td> 90</td></tr>\n",
       "\t<tr><td>0  </td><td>0  </td><td>1  </td><td>0  </td><td>1  </td><td>0  </td><td>0  </td><td>1  </td><td>0  </td><td> 95</td></tr>\n",
       "\t<tr><td>0  </td><td>0  </td><td>1  </td><td>0  </td><td>1  </td><td>0  </td><td>0  </td><td>0  </td><td>1  </td><td>100</td></tr>\n",
       "\t<tr><td>0  </td><td>0  </td><td>1  </td><td>0  </td><td>0  </td><td>1  </td><td>0  </td><td>0  </td><td>1  </td><td>105</td></tr>\n",
       "</tbody>\n",
       "</table>\n"
      ],
      "text/latex": [
       "\\begin{tabular}{llllllllll}\n",
       "  &  &  &  &  &  &  &  &  & possible\\_k\\\\\n",
       "\\hline\n",
       "\t 1   & 0   & 0   & 1   & 0   & 0   & 1   & 0   & 0   &  75\\\\\n",
       "\t 1   & 0   & 0   & 0   & 1   & 0   & 1   & 0   & 0   &  80\\\\\n",
       "\t 0   & 1   & 0   & 0   & 1   & 0   & 1   & 0   & 0   &  85\\\\\n",
       "\t 0   & 1   & 0   & 0   & 1   & 0   & 0   & 1   & 0   &  90\\\\\n",
       "\t 0   & 0   & 1   & 0   & 1   & 0   & 0   & 1   & 0   &  95\\\\\n",
       "\t 0   & 0   & 1   & 0   & 1   & 0   & 0   & 0   & 1   & 100\\\\\n",
       "\t 0   & 0   & 1   & 0   & 0   & 1   & 0   & 0   & 1   & 105\\\\\n",
       "\\end{tabular}\n"
      ],
      "text/markdown": [
       "\n",
       "|  |  |  |  |  |  |  |  |  | possible_k |\n",
       "|---|---|---|---|---|---|---|---|---|---|\n",
       "| 1   | 0   | 0   | 1   | 0   | 0   | 1   | 0   | 0   |  75 |\n",
       "| 1   | 0   | 0   | 0   | 1   | 0   | 1   | 0   | 0   |  80 |\n",
       "| 0   | 1   | 0   | 0   | 1   | 0   | 1   | 0   | 0   |  85 |\n",
       "| 0   | 1   | 0   | 0   | 1   | 0   | 0   | 1   | 0   |  90 |\n",
       "| 0   | 0   | 1   | 0   | 1   | 0   | 0   | 1   | 0   |  95 |\n",
       "| 0   | 0   | 1   | 0   | 1   | 0   | 0   | 0   | 1   | 100 |\n",
       "| 0   | 0   | 1   | 0   | 0   | 1   | 0   | 0   | 1   | 105 |\n",
       "\n"
      ],
      "text/plain": [
       "                       possible_k\n",
       "[1,] 1 0 0 1 0 0 1 0 0  75       \n",
       "[2,] 1 0 0 0 1 0 1 0 0  80       \n",
       "[3,] 0 1 0 0 1 0 1 0 0  85       \n",
       "[4,] 0 1 0 0 1 0 0 1 0  90       \n",
       "[5,] 0 0 1 0 1 0 0 1 0  95       \n",
       "[6,] 0 0 1 0 1 0 0 0 1 100       \n",
       "[7,] 0 0 1 0 0 1 0 0 1 105       "
      ]
     },
     "metadata": {},
     "output_type": "display_data"
    }
   ],
   "source": [
    "#Displaying solutions of LP for different values of k\n",
    "cbind(Solutions,possible_k) "
   ]
  },
  {
   "cell_type": "code",
   "execution_count": 20,
   "id": "3287cf96",
   "metadata": {},
   "outputs": [
    {
     "data": {
      "text/html": [
       "<table>\n",
       "<thead><tr><th scope=col>Objectives</th><th scope=col>possible_k</th></tr></thead>\n",
       "<tbody>\n",
       "\t<tr><td>444253.3</td><td> 75     </td></tr>\n",
       "\t<tr><td>476640.9</td><td> 80     </td></tr>\n",
       "\t<tr><td>504872.4</td><td> 85     </td></tr>\n",
       "\t<tr><td>533103.9</td><td> 90     </td></tr>\n",
       "\t<tr><td>482268.8</td><td> 95     </td></tr>\n",
       "\t<tr><td>431433.7</td><td>100     </td></tr>\n",
       "\t<tr><td>355661.6</td><td>105     </td></tr>\n",
       "</tbody>\n",
       "</table>\n"
      ],
      "text/latex": [
       "\\begin{tabular}{ll}\n",
       " Objectives & possible\\_k\\\\\n",
       "\\hline\n",
       "\t 444253.3 &  75     \\\\\n",
       "\t 476640.9 &  80     \\\\\n",
       "\t 504872.4 &  85     \\\\\n",
       "\t 533103.9 &  90     \\\\\n",
       "\t 482268.8 &  95     \\\\\n",
       "\t 431433.7 & 100     \\\\\n",
       "\t 355661.6 & 105     \\\\\n",
       "\\end{tabular}\n"
      ],
      "text/markdown": [
       "\n",
       "| Objectives | possible_k |\n",
       "|---|---|\n",
       "| 444253.3 |  75      |\n",
       "| 476640.9 |  80      |\n",
       "| 504872.4 |  85      |\n",
       "| 533103.9 |  90      |\n",
       "| 482268.8 |  95      |\n",
       "| 431433.7 | 100      |\n",
       "| 355661.6 | 105      |\n",
       "\n"
      ],
      "text/plain": [
       "     Objectives possible_k\n",
       "[1,] 444253.3    75       \n",
       "[2,] 476640.9    80       \n",
       "[3,] 504872.4    85       \n",
       "[4,] 533103.9    90       \n",
       "[5,] 482268.8    95       \n",
       "[6,] 431433.7   100       \n",
       "[7,] 355661.6   105       "
      ]
     },
     "metadata": {},
     "output_type": "display_data"
    }
   ],
   "source": [
    "#Displaying Objective values for all possible k values\n",
    "cbind(Objectives, possible_k)"
   ]
  },
  {
   "cell_type": "code",
   "execution_count": 21,
   "id": "3e28cb76",
   "metadata": {},
   "outputs": [
    {
     "data": {
      "text/html": [
       "<table>\n",
       "<thead><tr><th scope=col></th><th scope=col></th><th scope=col></th><th scope=col></th><th scope=col></th><th scope=col></th><th scope=col></th><th scope=col></th><th scope=col></th><th scope=col>Objectives</th><th scope=col>possible_k</th></tr></thead>\n",
       "<tbody>\n",
       "\t<tr><td>1       </td><td>0       </td><td>0       </td><td>1       </td><td>0       </td><td>0       </td><td>1       </td><td>0       </td><td>0       </td><td>444253.3</td><td> 75     </td></tr>\n",
       "\t<tr><td>1       </td><td>0       </td><td>0       </td><td>0       </td><td>1       </td><td>0       </td><td>1       </td><td>0       </td><td>0       </td><td>476640.9</td><td> 80     </td></tr>\n",
       "\t<tr><td>0       </td><td>1       </td><td>0       </td><td>0       </td><td>1       </td><td>0       </td><td>1       </td><td>0       </td><td>0       </td><td>504872.4</td><td> 85     </td></tr>\n",
       "\t<tr><td>0       </td><td>1       </td><td>0       </td><td>0       </td><td>1       </td><td>0       </td><td>0       </td><td>1       </td><td>0       </td><td>533103.9</td><td> 90     </td></tr>\n",
       "\t<tr><td>0       </td><td>0       </td><td>1       </td><td>0       </td><td>1       </td><td>0       </td><td>0       </td><td>1       </td><td>0       </td><td>482268.8</td><td> 95     </td></tr>\n",
       "\t<tr><td>0       </td><td>0       </td><td>1       </td><td>0       </td><td>1       </td><td>0       </td><td>0       </td><td>0       </td><td>1       </td><td>431433.7</td><td>100     </td></tr>\n",
       "\t<tr><td>0       </td><td>0       </td><td>1       </td><td>0       </td><td>0       </td><td>1       </td><td>0       </td><td>0       </td><td>1       </td><td>355661.6</td><td>105     </td></tr>\n",
       "</tbody>\n",
       "</table>\n"
      ],
      "text/latex": [
       "\\begin{tabular}{lllllllllll}\n",
       "  &  &  &  &  &  &  &  &  & Objectives & possible\\_k\\\\\n",
       "\\hline\n",
       "\t 1        & 0        & 0        & 1        & 0        & 0        & 1        & 0        & 0        & 444253.3 &  75     \\\\\n",
       "\t 1        & 0        & 0        & 0        & 1        & 0        & 1        & 0        & 0        & 476640.9 &  80     \\\\\n",
       "\t 0        & 1        & 0        & 0        & 1        & 0        & 1        & 0        & 0        & 504872.4 &  85     \\\\\n",
       "\t 0        & 1        & 0        & 0        & 1        & 0        & 0        & 1        & 0        & 533103.9 &  90     \\\\\n",
       "\t 0        & 0        & 1        & 0        & 1        & 0        & 0        & 1        & 0        & 482268.8 &  95     \\\\\n",
       "\t 0        & 0        & 1        & 0        & 1        & 0        & 0        & 0        & 1        & 431433.7 & 100     \\\\\n",
       "\t 0        & 0        & 1        & 0        & 0        & 1        & 0        & 0        & 1        & 355661.6 & 105     \\\\\n",
       "\\end{tabular}\n"
      ],
      "text/markdown": [
       "\n",
       "|  |  |  |  |  |  |  |  |  | Objectives | possible_k |\n",
       "|---|---|---|---|---|---|---|---|---|---|---|\n",
       "| 1        | 0        | 0        | 1        | 0        | 0        | 1        | 0        | 0        | 444253.3 |  75      |\n",
       "| 1        | 0        | 0        | 0        | 1        | 0        | 1        | 0        | 0        | 476640.9 |  80      |\n",
       "| 0        | 1        | 0        | 0        | 1        | 0        | 1        | 0        | 0        | 504872.4 |  85      |\n",
       "| 0        | 1        | 0        | 0        | 1        | 0        | 0        | 1        | 0        | 533103.9 |  90      |\n",
       "| 0        | 0        | 1        | 0        | 1        | 0        | 0        | 1        | 0        | 482268.8 |  95      |\n",
       "| 0        | 0        | 1        | 0        | 1        | 0        | 0        | 0        | 1        | 431433.7 | 100      |\n",
       "| 0        | 0        | 1        | 0        | 0        | 1        | 0        | 0        | 1        | 355661.6 | 105      |\n",
       "\n"
      ],
      "text/plain": [
       "                       Objectives possible_k\n",
       "[1,] 1 0 0 1 0 0 1 0 0 444253.3    75       \n",
       "[2,] 1 0 0 0 1 0 1 0 0 476640.9    80       \n",
       "[3,] 0 1 0 0 1 0 1 0 0 504872.4    85       \n",
       "[4,] 0 1 0 0 1 0 0 1 0 533103.9    90       \n",
       "[5,] 0 0 1 0 1 0 0 1 0 482268.8    95       \n",
       "[6,] 0 0 1 0 1 0 0 0 1 431433.7   100       \n",
       "[7,] 0 0 1 0 0 1 0 0 1 355661.6   105       "
      ]
     },
     "metadata": {},
     "output_type": "display_data"
    }
   ],
   "source": [
    "#Displaying solution and objective values for all k\n",
    "cbind(cbind(Solutions, Objectives),possible_k)"
   ]
  },
  {
   "cell_type": "code",
   "execution_count": 123,
   "id": "bb2709f3",
   "metadata": {},
   "outputs": [
    {
     "data": {
      "text/html": [
       "<table>\n",
       "<thead><tr><th scope=col></th><th scope=col>Items_names</th><th scope=col>P</th></tr></thead>\n",
       "<tbody>\n",
       "\t<tr><td>0 </td><td>A </td><td>25</td></tr>\n",
       "\t<tr><td>1 </td><td>A </td><td>30</td></tr>\n",
       "\t<tr><td>0 </td><td>A </td><td>35</td></tr>\n",
       "\t<tr><td>0 </td><td>B </td><td>25</td></tr>\n",
       "\t<tr><td>1 </td><td>B </td><td>30</td></tr>\n",
       "\t<tr><td>0 </td><td>B </td><td>35</td></tr>\n",
       "\t<tr><td>0 </td><td>C </td><td>25</td></tr>\n",
       "\t<tr><td>1 </td><td>C </td><td>30</td></tr>\n",
       "\t<tr><td>0 </td><td>C </td><td>35</td></tr>\n",
       "</tbody>\n",
       "</table>\n"
      ],
      "text/latex": [
       "\\begin{tabular}{lll}\n",
       "  & Items\\_names & P\\\\\n",
       "\\hline\n",
       "\t 0  & A  & 25\\\\\n",
       "\t 1  & A  & 30\\\\\n",
       "\t 0  & A  & 35\\\\\n",
       "\t 0  & B  & 25\\\\\n",
       "\t 1  & B  & 30\\\\\n",
       "\t 0  & B  & 35\\\\\n",
       "\t 0  & C  & 25\\\\\n",
       "\t 1  & C  & 30\\\\\n",
       "\t 0  & C  & 35\\\\\n",
       "\\end{tabular}\n"
      ],
      "text/markdown": [
       "\n",
       "|  | Items_names | P |\n",
       "|---|---|---|\n",
       "| 0  | A  | 25 |\n",
       "| 1  | A  | 30 |\n",
       "| 0  | A  | 35 |\n",
       "| 0  | B  | 25 |\n",
       "| 1  | B  | 30 |\n",
       "| 0  | B  | 35 |\n",
       "| 0  | C  | 25 |\n",
       "| 1  | C  | 30 |\n",
       "| 0  | C  | 35 |\n",
       "\n"
      ],
      "text/plain": [
       "        Items_names P \n",
       " [1,] 0 A           25\n",
       " [2,] 1 A           30\n",
       " [3,] 0 A           35\n",
       " [4,] 0 B           25\n",
       " [5,] 1 B           30\n",
       " [6,] 0 B           35\n",
       " [7,] 0 C           25\n",
       " [8,] 1 C           30\n",
       " [9,] 0 C           35"
      ]
     },
     "metadata": {},
     "output_type": "display_data"
    }
   ],
   "source": [
    "# From above visual, the maximum revenue occurs at k = 90. Thus solution will be price of A, B and C is $30,\n",
    "cbind(cbind(Solutions[match(max(Objectives),Objectives),],Items_names),P)"
   ]
  },
  {
   "cell_type": "markdown",
   "id": "27ff5ccd",
   "metadata": {},
   "source": [
    "### Optimal price value for item A, item B and item C is 30 that maximizes revenue (R = 533103.9). "
   ]
  },
  {
   "cell_type": "markdown",
   "id": "0fdc18cf",
   "metadata": {},
   "source": [
    "### This optimal value is based on Regression tree demand prediction"
   ]
  },
  {
   "cell_type": "markdown",
   "id": "0535dd15",
   "metadata": {},
   "source": [
    "# Q2 : Determining Optimal price using Linear Regression and Comparing"
   ]
  },
  {
   "cell_type": "markdown",
   "id": "ea10d1b2",
   "metadata": {},
   "source": [
    "## Predicting price of Item A, Item B and Item C using Linear Regression Model"
   ]
  },
  {
   "cell_type": "code",
   "execution_count": 56,
   "id": "a041b6d6",
   "metadata": {},
   "outputs": [],
   "source": [
    "#Building demand_pred_2, objectives_2 and solutions_2 vectors for displaying solution when predicting through Linear Regression model.\n",
    "Demand_pred_2= vector(mode= \"numeric\")\n",
    "Objectives_2= vector(mode= \"numeric\")\n",
    "Solutions_2= matrix(nrow= length(possible_k), ncol= length(Prices)*nrow(Data_test))"
   ]
  },
  {
   "cell_type": "code",
   "execution_count": 60,
   "id": "d7057d63",
   "metadata": {},
   "outputs": [
    {
     "data": {
      "text/html": [
       "<ol class=list-inline>\n",
       "\t<li>7261.01995541</li>\n",
       "\t<li>6053.72518624724</li>\n",
       "\t<li>4846.43041708447</li>\n",
       "\t<li>7122.55689376066</li>\n",
       "\t<li>5915.2621245979</li>\n",
       "\t<li>4707.96735543513</li>\n",
       "\t<li>7056.69970209667</li>\n",
       "\t<li>5849.40493293391</li>\n",
       "\t<li>4642.11016377114</li>\n",
       "</ol>\n"
      ],
      "text/latex": [
       "\\begin{enumerate*}\n",
       "\\item 7261.01995541\n",
       "\\item 6053.72518624724\n",
       "\\item 4846.43041708447\n",
       "\\item 7122.55689376066\n",
       "\\item 5915.2621245979\n",
       "\\item 4707.96735543513\n",
       "\\item 7056.69970209667\n",
       "\\item 5849.40493293391\n",
       "\\item 4642.11016377114\n",
       "\\end{enumerate*}\n"
      ],
      "text/markdown": [
       "1. 7261.01995541\n",
       "2. 6053.72518624724\n",
       "3. 4846.43041708447\n",
       "4. 7122.55689376066\n",
       "5. 5915.2621245979\n",
       "6. 4707.96735543513\n",
       "7. 7056.69970209667\n",
       "8. 5849.40493293391\n",
       "9. 4642.11016377114\n",
       "\n",
       "\n"
      ],
      "text/plain": [
       "[1] 7261.020 6053.725 4846.430 7122.557 5915.262 4707.967 7056.700 5849.405\n",
       "[9] 4642.110"
      ]
     },
     "metadata": {},
     "output_type": "display_data"
    }
   ],
   "source": [
    "#Running for loop in order to solve optimization model for all values of k\n",
    "for (n in 1:length(possible_k)){\n",
    "    for (i in 1:length(P)){\n",
    "        Data_test2$Price= P[i]\n",
    "        Data_test2$Relative_Price_of_Competing_Styles= P[i]/(possible_k[n]/3)\n",
    "        Demand_pred_2[i]= predict(model, Data_test2[i,])\n",
    "    }\n",
    "    Obj_coeff= Demand_pred_2*P\n",
    "    Cons_coeff= matrix(c(1,1,1,0,0,0,0,0,0,\n",
    "                         0,0,0,1,1,1,0,0,0,\n",
    "                         0,0,0,0,0,0,1,1,1,\n",
    "                         P[1],P[2],P[3],P[4],P[5],P[6],P[7],P[8],P[9]), nrow=4, byrow=TRUE)\n",
    "    Dir = c(\"==\",\n",
    "            \"==\",\n",
    "            \"==\",\n",
    "            \"==\")\n",
    "    RHS= c(1,1,1, possible_k[n])\n",
    "    Model= lp(\"max\", Obj_coeff, Cons_coeff, Dir, RHS, all.bin= TRUE)\n",
    "    Objectives_2[n]= Model$objval\n",
    "    Solutions_2[n,]= Model$solution\n",
    "}\n",
    "Demand_pred_2\n"
   ]
  },
  {
   "cell_type": "code",
   "execution_count": 86,
   "id": "b2decd76",
   "metadata": {},
   "outputs": [
    {
     "data": {
      "text/html": [
       "<table>\n",
       "<thead><tr><th scope=col></th><th scope=col></th><th scope=col></th><th scope=col></th><th scope=col></th><th scope=col></th><th scope=col></th><th scope=col></th><th scope=col></th><th scope=col>possible_k</th></tr></thead>\n",
       "<tbody>\n",
       "\t<tr><td>1  </td><td>0  </td><td>0  </td><td>1  </td><td>0  </td><td>0  </td><td>1  </td><td>0  </td><td>0  </td><td> 75</td></tr>\n",
       "\t<tr><td>0  </td><td>1  </td><td>0  </td><td>1  </td><td>0  </td><td>0  </td><td>1  </td><td>0  </td><td>0  </td><td> 80</td></tr>\n",
       "\t<tr><td>0  </td><td>1  </td><td>0  </td><td>0  </td><td>1  </td><td>0  </td><td>1  </td><td>0  </td><td>0  </td><td> 85</td></tr>\n",
       "\t<tr><td>0  </td><td>1  </td><td>0  </td><td>0  </td><td>1  </td><td>0  </td><td>0  </td><td>1  </td><td>0  </td><td> 90</td></tr>\n",
       "\t<tr><td>0  </td><td>0  </td><td>1  </td><td>0  </td><td>1  </td><td>0  </td><td>0  </td><td>1  </td><td>0  </td><td> 95</td></tr>\n",
       "\t<tr><td>0  </td><td>0  </td><td>1  </td><td>0  </td><td>0  </td><td>1  </td><td>0  </td><td>1  </td><td>0  </td><td>100</td></tr>\n",
       "\t<tr><td>0  </td><td>0  </td><td>1  </td><td>0  </td><td>0  </td><td>1  </td><td>0  </td><td>0  </td><td>1  </td><td>105</td></tr>\n",
       "</tbody>\n",
       "</table>\n"
      ],
      "text/latex": [
       "\\begin{tabular}{llllllllll}\n",
       "  &  &  &  &  &  &  &  &  & possible\\_k\\\\\n",
       "\\hline\n",
       "\t 1   & 0   & 0   & 1   & 0   & 0   & 1   & 0   & 0   &  75\\\\\n",
       "\t 0   & 1   & 0   & 1   & 0   & 0   & 1   & 0   & 0   &  80\\\\\n",
       "\t 0   & 1   & 0   & 0   & 1   & 0   & 1   & 0   & 0   &  85\\\\\n",
       "\t 0   & 1   & 0   & 0   & 1   & 0   & 0   & 1   & 0   &  90\\\\\n",
       "\t 0   & 0   & 1   & 0   & 1   & 0   & 0   & 1   & 0   &  95\\\\\n",
       "\t 0   & 0   & 1   & 0   & 0   & 1   & 0   & 1   & 0   & 100\\\\\n",
       "\t 0   & 0   & 1   & 0   & 0   & 1   & 0   & 0   & 1   & 105\\\\\n",
       "\\end{tabular}\n"
      ],
      "text/markdown": [
       "\n",
       "|  |  |  |  |  |  |  |  |  | possible_k |\n",
       "|---|---|---|---|---|---|---|---|---|---|\n",
       "| 1   | 0   | 0   | 1   | 0   | 0   | 1   | 0   | 0   |  75 |\n",
       "| 0   | 1   | 0   | 1   | 0   | 0   | 1   | 0   | 0   |  80 |\n",
       "| 0   | 1   | 0   | 0   | 1   | 0   | 1   | 0   | 0   |  85 |\n",
       "| 0   | 1   | 0   | 0   | 1   | 0   | 0   | 1   | 0   |  90 |\n",
       "| 0   | 0   | 1   | 0   | 1   | 0   | 0   | 1   | 0   |  95 |\n",
       "| 0   | 0   | 1   | 0   | 0   | 1   | 0   | 1   | 0   | 100 |\n",
       "| 0   | 0   | 1   | 0   | 0   | 1   | 0   | 0   | 1   | 105 |\n",
       "\n"
      ],
      "text/plain": [
       "                       possible_k\n",
       "[1,] 1 0 0 1 0 0 1 0 0  75       \n",
       "[2,] 0 1 0 1 0 0 1 0 0  80       \n",
       "[3,] 0 1 0 0 1 0 1 0 0  85       \n",
       "[4,] 0 1 0 0 1 0 0 1 0  90       \n",
       "[5,] 0 0 1 0 1 0 0 1 0  95       \n",
       "[6,] 0 0 1 0 0 1 0 1 0 100       \n",
       "[7,] 0 0 1 0 0 1 0 0 1 105       "
      ]
     },
     "metadata": {},
     "output_type": "display_data"
    }
   ],
   "source": [
    "#Displaying solutions of LP for different values of k\n",
    "cbind(Solutions_2,possible_k)"
   ]
  },
  {
   "cell_type": "code",
   "execution_count": 87,
   "id": "9032d54a",
   "metadata": {},
   "outputs": [
    {
     "data": {
      "text/html": [
       "<table>\n",
       "<thead><tr><th scope=col>Objectives_2</th><th scope=col>possible_k</th></tr></thead>\n",
       "<tbody>\n",
       "\t<tr><td>516812.4</td><td> 75     </td></tr>\n",
       "\t<tr><td>518898.1</td><td> 80     </td></tr>\n",
       "\t<tr><td>520884.2</td><td> 85     </td></tr>\n",
       "\t<tr><td>523035.1</td><td> 90     </td></tr>\n",
       "\t<tr><td>514415.8</td><td> 95     </td></tr>\n",
       "\t<tr><td>505599.3</td><td>100     </td></tr>\n",
       "\t<tr><td>496877.8</td><td>105     </td></tr>\n",
       "</tbody>\n",
       "</table>\n"
      ],
      "text/latex": [
       "\\begin{tabular}{ll}\n",
       " Objectives\\_2 & possible\\_k\\\\\n",
       "\\hline\n",
       "\t 516812.4 &  75     \\\\\n",
       "\t 518898.1 &  80     \\\\\n",
       "\t 520884.2 &  85     \\\\\n",
       "\t 523035.1 &  90     \\\\\n",
       "\t 514415.8 &  95     \\\\\n",
       "\t 505599.3 & 100     \\\\\n",
       "\t 496877.8 & 105     \\\\\n",
       "\\end{tabular}\n"
      ],
      "text/markdown": [
       "\n",
       "| Objectives_2 | possible_k |\n",
       "|---|---|\n",
       "| 516812.4 |  75      |\n",
       "| 518898.1 |  80      |\n",
       "| 520884.2 |  85      |\n",
       "| 523035.1 |  90      |\n",
       "| 514415.8 |  95      |\n",
       "| 505599.3 | 100      |\n",
       "| 496877.8 | 105      |\n",
       "\n"
      ],
      "text/plain": [
       "     Objectives_2 possible_k\n",
       "[1,] 516812.4      75       \n",
       "[2,] 518898.1      80       \n",
       "[3,] 520884.2      85       \n",
       "[4,] 523035.1      90       \n",
       "[5,] 514415.8      95       \n",
       "[6,] 505599.3     100       \n",
       "[7,] 496877.8     105       "
      ]
     },
     "metadata": {},
     "output_type": "display_data"
    }
   ],
   "source": [
    "#Displaying Objective values for all possible k values\n",
    "cbind(Objectives_2, possible_k)"
   ]
  },
  {
   "cell_type": "code",
   "execution_count": 93,
   "id": "f2c28b0b",
   "metadata": {},
   "outputs": [
    {
     "data": {
      "text/html": [
       "<table>\n",
       "<thead><tr><th scope=col></th><th scope=col></th><th scope=col></th><th scope=col></th><th scope=col></th><th scope=col></th><th scope=col></th><th scope=col></th><th scope=col></th><th scope=col>Objectives_2</th><th scope=col>possible_k</th></tr></thead>\n",
       "<tbody>\n",
       "\t<tr><td>1       </td><td>0       </td><td>0       </td><td>1       </td><td>0       </td><td>0       </td><td>1       </td><td>0       </td><td>0       </td><td>516812.4</td><td> 75     </td></tr>\n",
       "\t<tr><td>0       </td><td>1       </td><td>0       </td><td>1       </td><td>0       </td><td>0       </td><td>1       </td><td>0       </td><td>0       </td><td>518898.1</td><td> 80     </td></tr>\n",
       "\t<tr><td>0       </td><td>1       </td><td>0       </td><td>0       </td><td>1       </td><td>0       </td><td>1       </td><td>0       </td><td>0       </td><td>520884.2</td><td> 85     </td></tr>\n",
       "\t<tr><td>0       </td><td>1       </td><td>0       </td><td>0       </td><td>1       </td><td>0       </td><td>0       </td><td>1       </td><td>0       </td><td>523035.1</td><td> 90     </td></tr>\n",
       "\t<tr><td>0       </td><td>0       </td><td>1       </td><td>0       </td><td>1       </td><td>0       </td><td>0       </td><td>1       </td><td>0       </td><td>514415.8</td><td> 95     </td></tr>\n",
       "\t<tr><td>0       </td><td>0       </td><td>1       </td><td>0       </td><td>0       </td><td>1       </td><td>0       </td><td>1       </td><td>0       </td><td>505599.3</td><td>100     </td></tr>\n",
       "\t<tr><td>0       </td><td>0       </td><td>1       </td><td>0       </td><td>0       </td><td>1       </td><td>0       </td><td>0       </td><td>1       </td><td>496877.8</td><td>105     </td></tr>\n",
       "</tbody>\n",
       "</table>\n"
      ],
      "text/latex": [
       "\\begin{tabular}{lllllllllll}\n",
       "  &  &  &  &  &  &  &  &  & Objectives\\_2 & possible\\_k\\\\\n",
       "\\hline\n",
       "\t 1        & 0        & 0        & 1        & 0        & 0        & 1        & 0        & 0        & 516812.4 &  75     \\\\\n",
       "\t 0        & 1        & 0        & 1        & 0        & 0        & 1        & 0        & 0        & 518898.1 &  80     \\\\\n",
       "\t 0        & 1        & 0        & 0        & 1        & 0        & 1        & 0        & 0        & 520884.2 &  85     \\\\\n",
       "\t 0        & 1        & 0        & 0        & 1        & 0        & 0        & 1        & 0        & 523035.1 &  90     \\\\\n",
       "\t 0        & 0        & 1        & 0        & 1        & 0        & 0        & 1        & 0        & 514415.8 &  95     \\\\\n",
       "\t 0        & 0        & 1        & 0        & 0        & 1        & 0        & 1        & 0        & 505599.3 & 100     \\\\\n",
       "\t 0        & 0        & 1        & 0        & 0        & 1        & 0        & 0        & 1        & 496877.8 & 105     \\\\\n",
       "\\end{tabular}\n"
      ],
      "text/markdown": [
       "\n",
       "|  |  |  |  |  |  |  |  |  | Objectives_2 | possible_k |\n",
       "|---|---|---|---|---|---|---|---|---|---|---|\n",
       "| 1        | 0        | 0        | 1        | 0        | 0        | 1        | 0        | 0        | 516812.4 |  75      |\n",
       "| 0        | 1        | 0        | 1        | 0        | 0        | 1        | 0        | 0        | 518898.1 |  80      |\n",
       "| 0        | 1        | 0        | 0        | 1        | 0        | 1        | 0        | 0        | 520884.2 |  85      |\n",
       "| 0        | 1        | 0        | 0        | 1        | 0        | 0        | 1        | 0        | 523035.1 |  90      |\n",
       "| 0        | 0        | 1        | 0        | 1        | 0        | 0        | 1        | 0        | 514415.8 |  95      |\n",
       "| 0        | 0        | 1        | 0        | 0        | 1        | 0        | 1        | 0        | 505599.3 | 100      |\n",
       "| 0        | 0        | 1        | 0        | 0        | 1        | 0        | 0        | 1        | 496877.8 | 105      |\n",
       "\n"
      ],
      "text/plain": [
       "                       Objectives_2 possible_k\n",
       "[1,] 1 0 0 1 0 0 1 0 0 516812.4      75       \n",
       "[2,] 0 1 0 1 0 0 1 0 0 518898.1      80       \n",
       "[3,] 0 1 0 0 1 0 1 0 0 520884.2      85       \n",
       "[4,] 0 1 0 0 1 0 0 1 0 523035.1      90       \n",
       "[5,] 0 0 1 0 1 0 0 1 0 514415.8      95       \n",
       "[6,] 0 0 1 0 0 1 0 1 0 505599.3     100       \n",
       "[7,] 0 0 1 0 0 1 0 0 1 496877.8     105       "
      ]
     },
     "metadata": {},
     "output_type": "display_data"
    }
   ],
   "source": [
    "#Displaying solution and objective values for all k\n",
    "cbind(cbind(Solutions_2, Objectives_2),possible_k)"
   ]
  },
  {
   "cell_type": "code",
   "execution_count": 124,
   "id": "e2bd648f",
   "metadata": {},
   "outputs": [
    {
     "data": {
      "text/html": [
       "<table>\n",
       "<thead><tr><th scope=col></th><th scope=col>Items_names</th><th scope=col>P</th></tr></thead>\n",
       "<tbody>\n",
       "\t<tr><td>0 </td><td>A </td><td>25</td></tr>\n",
       "\t<tr><td>1 </td><td>A </td><td>30</td></tr>\n",
       "\t<tr><td>0 </td><td>A </td><td>35</td></tr>\n",
       "\t<tr><td>0 </td><td>B </td><td>25</td></tr>\n",
       "\t<tr><td>1 </td><td>B </td><td>30</td></tr>\n",
       "\t<tr><td>0 </td><td>B </td><td>35</td></tr>\n",
       "\t<tr><td>0 </td><td>C </td><td>25</td></tr>\n",
       "\t<tr><td>1 </td><td>C </td><td>30</td></tr>\n",
       "\t<tr><td>0 </td><td>C </td><td>35</td></tr>\n",
       "</tbody>\n",
       "</table>\n"
      ],
      "text/latex": [
       "\\begin{tabular}{lll}\n",
       "  & Items\\_names & P\\\\\n",
       "\\hline\n",
       "\t 0  & A  & 25\\\\\n",
       "\t 1  & A  & 30\\\\\n",
       "\t 0  & A  & 35\\\\\n",
       "\t 0  & B  & 25\\\\\n",
       "\t 1  & B  & 30\\\\\n",
       "\t 0  & B  & 35\\\\\n",
       "\t 0  & C  & 25\\\\\n",
       "\t 1  & C  & 30\\\\\n",
       "\t 0  & C  & 35\\\\\n",
       "\\end{tabular}\n"
      ],
      "text/markdown": [
       "\n",
       "|  | Items_names | P |\n",
       "|---|---|---|\n",
       "| 0  | A  | 25 |\n",
       "| 1  | A  | 30 |\n",
       "| 0  | A  | 35 |\n",
       "| 0  | B  | 25 |\n",
       "| 1  | B  | 30 |\n",
       "| 0  | B  | 35 |\n",
       "| 0  | C  | 25 |\n",
       "| 1  | C  | 30 |\n",
       "| 0  | C  | 35 |\n",
       "\n"
      ],
      "text/plain": [
       "        Items_names P \n",
       " [1,] 0 A           25\n",
       " [2,] 1 A           30\n",
       " [3,] 0 A           35\n",
       " [4,] 0 B           25\n",
       " [5,] 1 B           30\n",
       " [6,] 0 B           35\n",
       " [7,] 0 C           25\n",
       " [8,] 1 C           30\n",
       " [9,] 0 C           35"
      ]
     },
     "metadata": {},
     "output_type": "display_data"
    }
   ],
   "source": [
    "# From above visual, the maximum revenue occurs at k = 90. Thus solution will be price of A, B and C is $30\n",
    "cbind(cbind(Solutions_2[match(max(Objectives_2),Objectives_2),],Items_names),P)"
   ]
  },
  {
   "cell_type": "markdown",
   "id": "9af38350",
   "metadata": {},
   "source": [
    "### Optimal price value for item A, item B and item C is 30 that maximizes revenue (R = 523035). "
   ]
  },
  {
   "cell_type": "markdown",
   "id": "b95f4e07",
   "metadata": {},
   "source": [
    "### This optimal value is based on Linear Regression Demand prediction"
   ]
  },
  {
   "cell_type": "markdown",
   "id": "2ffdde2e",
   "metadata": {},
   "source": [
    "#### Thus on comparing results of optimal price prediction through both models, we can say that the optimal price is same."
   ]
  },
  {
   "cell_type": "markdown",
   "id": "92e2575e",
   "metadata": {},
   "source": [
    "#### However, the Revenue determination using both models is slight different. \n",
    "#### From Regression tree model we get Optimal revenue for the optimal price as 533103.9\n",
    "#### From Linear Regression model, we get Optimal revenue for the optimal price as 523035"
   ]
  },
  {
   "cell_type": "markdown",
   "id": "dbd56eaa",
   "metadata": {},
   "source": [
    "# Q3 : Adding Assumptions to obtain optimal price for new items"
   ]
  },
  {
   "cell_type": "markdown",
   "id": "a4589279",
   "metadata": {},
   "source": [
    "## Adding constraint that price of A cannot be 25\n",
    "## The other contraint that price of B and C cannot be 45 is not added as upper limit is 35."
   ]
  },
  {
   "cell_type": "code",
   "execution_count": 67,
   "id": "60150cd6",
   "metadata": {},
   "outputs": [],
   "source": [
    "#Building demand_pred_3, objectives_3 and solutions_3 vectors for displaying solution when predicting through regression trees.\n",
    "Demand_pred_3= vector(mode= \"numeric\")\n",
    "Objectives_3= vector(mode= \"numeric\")\n",
    "Solutions_3= matrix(nrow= length(possible_k), ncol= length(Prices)*nrow(Data_test))"
   ]
  },
  {
   "cell_type": "code",
   "execution_count": 68,
   "id": "624d5605",
   "metadata": {},
   "outputs": [
    {
     "data": {
      "text/html": [
       "<ol class=list-inline>\n",
       "\t<li>5646.29929602882</li>\n",
       "\t<li>5646.29929602882</li>\n",
       "\t<li>3387.253733322</li>\n",
       "\t<li>6477.532794757</li>\n",
       "\t<li>6477.532794757</li>\n",
       "\t<li>3387.253733322</li>\n",
       "\t<li>5646.29929602882</li>\n",
       "\t<li>5646.29929602882</li>\n",
       "\t<li>3387.253733322</li>\n",
       "</ol>\n"
      ],
      "text/latex": [
       "\\begin{enumerate*}\n",
       "\\item 5646.29929602882\n",
       "\\item 5646.29929602882\n",
       "\\item 3387.253733322\n",
       "\\item 6477.532794757\n",
       "\\item 6477.532794757\n",
       "\\item 3387.253733322\n",
       "\\item 5646.29929602882\n",
       "\\item 5646.29929602882\n",
       "\\item 3387.253733322\n",
       "\\end{enumerate*}\n"
      ],
      "text/markdown": [
       "1. 5646.29929602882\n",
       "2. 5646.29929602882\n",
       "3. 3387.253733322\n",
       "4. 6477.532794757\n",
       "5. 6477.532794757\n",
       "6. 3387.253733322\n",
       "7. 5646.29929602882\n",
       "8. 5646.29929602882\n",
       "9. 3387.253733322\n",
       "\n",
       "\n"
      ],
      "text/plain": [
       "[1] 5646.299 5646.299 3387.254 6477.533 6477.533 3387.254 5646.299 5646.299\n",
       "[9] 3387.254"
      ]
     },
     "metadata": {},
     "output_type": "display_data"
    }
   ],
   "source": [
    "#Running for loop in order to solve optimization model for all values of k\n",
    "for (n in 1:length(possible_k)){\n",
    "    for (i in 1:length(P)){\n",
    "        Data_test2$Price= P[i]\n",
    "        Data_test2$Relative_Price_of_Competing_Styles= P[i]/(possible_k[n]/3)\n",
    "        Demand_pred_3[i]= predict(reg_tree, Data_test2[i,])\n",
    "    }\n",
    "    Obj_coeff= Demand_pred_3*P\n",
    "    Cons_coeff= matrix(c(1,1,1,0,0,0,0,0,0,\n",
    "                         0,0,0,1,1,1,0,0,0,\n",
    "                         0,0,0,0,0,0,1,1,1,\n",
    "                         1,0,0,0,0,0,0,0,0,\n",
    "                         P[1],P[2],P[3],P[4],P[5],P[6],P[7],P[8],P[9]), nrow=5, byrow=TRUE)\n",
    "    Dir = c(\"==\",\n",
    "            \"==\",\n",
    "            \"==\",\n",
    "            \"==\",\n",
    "            \"==\")\n",
    "    RHS= c(1,1,1,0, possible_k[n])\n",
    "    Model= lp(\"max\", Obj_coeff, Cons_coeff, Dir, RHS, all.bin= TRUE)\n",
    "    Objectives_3[n]= Model$objval\n",
    "    Solutions_3[n,]= Model$solution\n",
    "}\n",
    "Demand_pred_3"
   ]
  },
  {
   "cell_type": "code",
   "execution_count": 90,
   "id": "58438b6b",
   "metadata": {},
   "outputs": [
    {
     "data": {
      "text/html": [
       "<table>\n",
       "<thead><tr><th scope=col></th><th scope=col></th><th scope=col></th><th scope=col></th><th scope=col></th><th scope=col></th><th scope=col></th><th scope=col></th><th scope=col></th><th scope=col>possible_k</th></tr></thead>\n",
       "<tbody>\n",
       "\t<tr><td>0  </td><td>0  </td><td>0  </td><td>0  </td><td>0  </td><td>0  </td><td>0  </td><td>0  </td><td>0  </td><td> 75</td></tr>\n",
       "\t<tr><td>0  </td><td>1  </td><td>0  </td><td>1  </td><td>0  </td><td>0  </td><td>1  </td><td>0  </td><td>0  </td><td> 80</td></tr>\n",
       "\t<tr><td>0  </td><td>1  </td><td>0  </td><td>0  </td><td>1  </td><td>0  </td><td>1  </td><td>0  </td><td>0  </td><td> 85</td></tr>\n",
       "\t<tr><td>0  </td><td>1  </td><td>0  </td><td>0  </td><td>1  </td><td>0  </td><td>0  </td><td>1  </td><td>0  </td><td> 90</td></tr>\n",
       "\t<tr><td>0  </td><td>0  </td><td>1  </td><td>0  </td><td>1  </td><td>0  </td><td>0  </td><td>1  </td><td>0  </td><td> 95</td></tr>\n",
       "\t<tr><td>0  </td><td>0  </td><td>1  </td><td>0  </td><td>1  </td><td>0  </td><td>0  </td><td>0  </td><td>1  </td><td>100</td></tr>\n",
       "\t<tr><td>0  </td><td>0  </td><td>1  </td><td>0  </td><td>0  </td><td>1  </td><td>0  </td><td>0  </td><td>1  </td><td>105</td></tr>\n",
       "</tbody>\n",
       "</table>\n"
      ],
      "text/latex": [
       "\\begin{tabular}{llllllllll}\n",
       "  &  &  &  &  &  &  &  &  & possible\\_k\\\\\n",
       "\\hline\n",
       "\t 0   & 0   & 0   & 0   & 0   & 0   & 0   & 0   & 0   &  75\\\\\n",
       "\t 0   & 1   & 0   & 1   & 0   & 0   & 1   & 0   & 0   &  80\\\\\n",
       "\t 0   & 1   & 0   & 0   & 1   & 0   & 1   & 0   & 0   &  85\\\\\n",
       "\t 0   & 1   & 0   & 0   & 1   & 0   & 0   & 1   & 0   &  90\\\\\n",
       "\t 0   & 0   & 1   & 0   & 1   & 0   & 0   & 1   & 0   &  95\\\\\n",
       "\t 0   & 0   & 1   & 0   & 1   & 0   & 0   & 0   & 1   & 100\\\\\n",
       "\t 0   & 0   & 1   & 0   & 0   & 1   & 0   & 0   & 1   & 105\\\\\n",
       "\\end{tabular}\n"
      ],
      "text/markdown": [
       "\n",
       "|  |  |  |  |  |  |  |  |  | possible_k |\n",
       "|---|---|---|---|---|---|---|---|---|---|\n",
       "| 0   | 0   | 0   | 0   | 0   | 0   | 0   | 0   | 0   |  75 |\n",
       "| 0   | 1   | 0   | 1   | 0   | 0   | 1   | 0   | 0   |  80 |\n",
       "| 0   | 1   | 0   | 0   | 1   | 0   | 1   | 0   | 0   |  85 |\n",
       "| 0   | 1   | 0   | 0   | 1   | 0   | 0   | 1   | 0   |  90 |\n",
       "| 0   | 0   | 1   | 0   | 1   | 0   | 0   | 1   | 0   |  95 |\n",
       "| 0   | 0   | 1   | 0   | 1   | 0   | 0   | 0   | 1   | 100 |\n",
       "| 0   | 0   | 1   | 0   | 0   | 1   | 0   | 0   | 1   | 105 |\n",
       "\n"
      ],
      "text/plain": [
       "                       possible_k\n",
       "[1,] 0 0 0 0 0 0 0 0 0  75       \n",
       "[2,] 0 1 0 1 0 0 1 0 0  80       \n",
       "[3,] 0 1 0 0 1 0 1 0 0  85       \n",
       "[4,] 0 1 0 0 1 0 0 1 0  90       \n",
       "[5,] 0 0 1 0 1 0 0 1 0  95       \n",
       "[6,] 0 0 1 0 1 0 0 0 1 100       \n",
       "[7,] 0 0 1 0 0 1 0 0 1 105       "
      ]
     },
     "metadata": {},
     "output_type": "display_data"
    }
   ],
   "source": [
    "#Displaying solutions of LP for different values of k\n",
    "cbind(Solutions_3,possible_k)"
   ]
  },
  {
   "cell_type": "code",
   "execution_count": 91,
   "id": "b5d005cc",
   "metadata": {},
   "outputs": [
    {
     "data": {
      "text/html": [
       "<table>\n",
       "<thead><tr><th scope=col>Objectives_3</th><th scope=col>possible_k</th></tr></thead>\n",
       "<tbody>\n",
       "\t<tr><td>     0.0</td><td> 75     </td></tr>\n",
       "\t<tr><td>472484.8</td><td> 80     </td></tr>\n",
       "\t<tr><td>504872.4</td><td> 85     </td></tr>\n",
       "\t<tr><td>533103.9</td><td> 90     </td></tr>\n",
       "\t<tr><td>482268.8</td><td> 95     </td></tr>\n",
       "\t<tr><td>431433.7</td><td>100     </td></tr>\n",
       "\t<tr><td>355661.6</td><td>105     </td></tr>\n",
       "</tbody>\n",
       "</table>\n"
      ],
      "text/latex": [
       "\\begin{tabular}{ll}\n",
       " Objectives\\_3 & possible\\_k\\\\\n",
       "\\hline\n",
       "\t      0.0 &  75     \\\\\n",
       "\t 472484.8 &  80     \\\\\n",
       "\t 504872.4 &  85     \\\\\n",
       "\t 533103.9 &  90     \\\\\n",
       "\t 482268.8 &  95     \\\\\n",
       "\t 431433.7 & 100     \\\\\n",
       "\t 355661.6 & 105     \\\\\n",
       "\\end{tabular}\n"
      ],
      "text/markdown": [
       "\n",
       "| Objectives_3 | possible_k |\n",
       "|---|---|\n",
       "|      0.0 |  75      |\n",
       "| 472484.8 |  80      |\n",
       "| 504872.4 |  85      |\n",
       "| 533103.9 |  90      |\n",
       "| 482268.8 |  95      |\n",
       "| 431433.7 | 100      |\n",
       "| 355661.6 | 105      |\n",
       "\n"
      ],
      "text/plain": [
       "     Objectives_3 possible_k\n",
       "[1,]      0.0      75       \n",
       "[2,] 472484.8      80       \n",
       "[3,] 504872.4      85       \n",
       "[4,] 533103.9      90       \n",
       "[5,] 482268.8      95       \n",
       "[6,] 431433.7     100       \n",
       "[7,] 355661.6     105       "
      ]
     },
     "metadata": {},
     "output_type": "display_data"
    }
   ],
   "source": [
    "#Displaying Objective values for all possible k values\n",
    "cbind(Objectives_3, possible_k)"
   ]
  },
  {
   "cell_type": "code",
   "execution_count": 92,
   "id": "021f5047",
   "metadata": {},
   "outputs": [
    {
     "data": {
      "text/html": [
       "<table>\n",
       "<thead><tr><th scope=col></th><th scope=col></th><th scope=col></th><th scope=col></th><th scope=col></th><th scope=col></th><th scope=col></th><th scope=col></th><th scope=col></th><th scope=col>Objectives_3</th><th scope=col>possible_k</th></tr></thead>\n",
       "<tbody>\n",
       "\t<tr><td>0       </td><td>0       </td><td>0       </td><td>0       </td><td>0       </td><td>0       </td><td>0       </td><td>0       </td><td>0       </td><td>     0.0</td><td> 75     </td></tr>\n",
       "\t<tr><td>0       </td><td>1       </td><td>0       </td><td>1       </td><td>0       </td><td>0       </td><td>1       </td><td>0       </td><td>0       </td><td>472484.8</td><td> 80     </td></tr>\n",
       "\t<tr><td>0       </td><td>1       </td><td>0       </td><td>0       </td><td>1       </td><td>0       </td><td>1       </td><td>0       </td><td>0       </td><td>504872.4</td><td> 85     </td></tr>\n",
       "\t<tr><td>0       </td><td>1       </td><td>0       </td><td>0       </td><td>1       </td><td>0       </td><td>0       </td><td>1       </td><td>0       </td><td>533103.9</td><td> 90     </td></tr>\n",
       "\t<tr><td>0       </td><td>0       </td><td>1       </td><td>0       </td><td>1       </td><td>0       </td><td>0       </td><td>1       </td><td>0       </td><td>482268.8</td><td> 95     </td></tr>\n",
       "\t<tr><td>0       </td><td>0       </td><td>1       </td><td>0       </td><td>1       </td><td>0       </td><td>0       </td><td>0       </td><td>1       </td><td>431433.7</td><td>100     </td></tr>\n",
       "\t<tr><td>0       </td><td>0       </td><td>1       </td><td>0       </td><td>0       </td><td>1       </td><td>0       </td><td>0       </td><td>1       </td><td>355661.6</td><td>105     </td></tr>\n",
       "</tbody>\n",
       "</table>\n"
      ],
      "text/latex": [
       "\\begin{tabular}{lllllllllll}\n",
       "  &  &  &  &  &  &  &  &  & Objectives\\_3 & possible\\_k\\\\\n",
       "\\hline\n",
       "\t 0        & 0        & 0        & 0        & 0        & 0        & 0        & 0        & 0        &      0.0 &  75     \\\\\n",
       "\t 0        & 1        & 0        & 1        & 0        & 0        & 1        & 0        & 0        & 472484.8 &  80     \\\\\n",
       "\t 0        & 1        & 0        & 0        & 1        & 0        & 1        & 0        & 0        & 504872.4 &  85     \\\\\n",
       "\t 0        & 1        & 0        & 0        & 1        & 0        & 0        & 1        & 0        & 533103.9 &  90     \\\\\n",
       "\t 0        & 0        & 1        & 0        & 1        & 0        & 0        & 1        & 0        & 482268.8 &  95     \\\\\n",
       "\t 0        & 0        & 1        & 0        & 1        & 0        & 0        & 0        & 1        & 431433.7 & 100     \\\\\n",
       "\t 0        & 0        & 1        & 0        & 0        & 1        & 0        & 0        & 1        & 355661.6 & 105     \\\\\n",
       "\\end{tabular}\n"
      ],
      "text/markdown": [
       "\n",
       "|  |  |  |  |  |  |  |  |  | Objectives_3 | possible_k |\n",
       "|---|---|---|---|---|---|---|---|---|---|---|\n",
       "| 0        | 0        | 0        | 0        | 0        | 0        | 0        | 0        | 0        |      0.0 |  75      |\n",
       "| 0        | 1        | 0        | 1        | 0        | 0        | 1        | 0        | 0        | 472484.8 |  80      |\n",
       "| 0        | 1        | 0        | 0        | 1        | 0        | 1        | 0        | 0        | 504872.4 |  85      |\n",
       "| 0        | 1        | 0        | 0        | 1        | 0        | 0        | 1        | 0        | 533103.9 |  90      |\n",
       "| 0        | 0        | 1        | 0        | 1        | 0        | 0        | 1        | 0        | 482268.8 |  95      |\n",
       "| 0        | 0        | 1        | 0        | 1        | 0        | 0        | 0        | 1        | 431433.7 | 100      |\n",
       "| 0        | 0        | 1        | 0        | 0        | 1        | 0        | 0        | 1        | 355661.6 | 105      |\n",
       "\n"
      ],
      "text/plain": [
       "                       Objectives_3 possible_k\n",
       "[1,] 0 0 0 0 0 0 0 0 0      0.0      75       \n",
       "[2,] 0 1 0 1 0 0 1 0 0 472484.8      80       \n",
       "[3,] 0 1 0 0 1 0 1 0 0 504872.4      85       \n",
       "[4,] 0 1 0 0 1 0 0 1 0 533103.9      90       \n",
       "[5,] 0 0 1 0 1 0 0 1 0 482268.8      95       \n",
       "[6,] 0 0 1 0 1 0 0 0 1 431433.7     100       \n",
       "[7,] 0 0 1 0 0 1 0 0 1 355661.6     105       "
      ]
     },
     "metadata": {},
     "output_type": "display_data"
    }
   ],
   "source": [
    "#Displaying solution and objective values for all k\n",
    "cbind(cbind(Solutions_3, Objectives_3),possible_k)"
   ]
  },
  {
   "cell_type": "code",
   "execution_count": 125,
   "id": "6ca10985",
   "metadata": {},
   "outputs": [
    {
     "data": {
      "text/html": [
       "<table>\n",
       "<thead><tr><th scope=col></th><th scope=col>Items_names</th><th scope=col>P</th></tr></thead>\n",
       "<tbody>\n",
       "\t<tr><td>0 </td><td>A </td><td>25</td></tr>\n",
       "\t<tr><td>1 </td><td>A </td><td>30</td></tr>\n",
       "\t<tr><td>0 </td><td>A </td><td>35</td></tr>\n",
       "\t<tr><td>0 </td><td>B </td><td>25</td></tr>\n",
       "\t<tr><td>1 </td><td>B </td><td>30</td></tr>\n",
       "\t<tr><td>0 </td><td>B </td><td>35</td></tr>\n",
       "\t<tr><td>0 </td><td>C </td><td>25</td></tr>\n",
       "\t<tr><td>1 </td><td>C </td><td>30</td></tr>\n",
       "\t<tr><td>0 </td><td>C </td><td>35</td></tr>\n",
       "</tbody>\n",
       "</table>\n"
      ],
      "text/latex": [
       "\\begin{tabular}{lll}\n",
       "  & Items\\_names & P\\\\\n",
       "\\hline\n",
       "\t 0  & A  & 25\\\\\n",
       "\t 1  & A  & 30\\\\\n",
       "\t 0  & A  & 35\\\\\n",
       "\t 0  & B  & 25\\\\\n",
       "\t 1  & B  & 30\\\\\n",
       "\t 0  & B  & 35\\\\\n",
       "\t 0  & C  & 25\\\\\n",
       "\t 1  & C  & 30\\\\\n",
       "\t 0  & C  & 35\\\\\n",
       "\\end{tabular}\n"
      ],
      "text/markdown": [
       "\n",
       "|  | Items_names | P |\n",
       "|---|---|---|\n",
       "| 0  | A  | 25 |\n",
       "| 1  | A  | 30 |\n",
       "| 0  | A  | 35 |\n",
       "| 0  | B  | 25 |\n",
       "| 1  | B  | 30 |\n",
       "| 0  | B  | 35 |\n",
       "| 0  | C  | 25 |\n",
       "| 1  | C  | 30 |\n",
       "| 0  | C  | 35 |\n",
       "\n"
      ],
      "text/plain": [
       "        Items_names P \n",
       " [1,] 0 A           25\n",
       " [2,] 1 A           30\n",
       " [3,] 0 A           35\n",
       " [4,] 0 B           25\n",
       " [5,] 1 B           30\n",
       " [6,] 0 B           35\n",
       " [7,] 0 C           25\n",
       " [8,] 1 C           30\n",
       " [9,] 0 C           35"
      ]
     },
     "metadata": {},
     "output_type": "display_data"
    }
   ],
   "source": [
    "# From above visual, the maximum revenue occurs at k = 90. Thus solution will be price of A, B and C is $30\n",
    "cbind(cbind(Solutions_3[match(max(Objectives_3),Objectives_3),],Items_names),P)"
   ]
  },
  {
   "cell_type": "markdown",
   "id": "7b6ece84",
   "metadata": {},
   "source": [
    "### Optimal price value for item A, item B and item C is 30 that maximizes revenue (R = 533103.9) even having constraint on price of A."
   ]
  },
  {
   "cell_type": "markdown",
   "id": "bc82951c",
   "metadata": {},
   "source": [
    "### Thus adding constraint donot change the optimal price of new items."
   ]
  }
 ],
 "metadata": {
  "celltoolbar": "Raw Cell Format",
  "kernelspec": {
   "display_name": "R",
   "language": "R",
   "name": "ir"
  },
  "language_info": {
   "codemirror_mode": "r",
   "file_extension": ".r",
   "mimetype": "text/x-r-source",
   "name": "R",
   "pygments_lexer": "r",
   "version": "3.6.1"
  }
 },
 "nbformat": 4,
 "nbformat_minor": 5
}
